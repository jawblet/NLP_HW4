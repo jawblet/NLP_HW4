{
  "cells": [
    {
      "cell_type": "markdown",
      "id": "6703077a",
      "metadata": {
        "id": "6703077a"
      },
      "source": [
        "# COMS W4705 Spring 24\n",
        "## Homework 4 - Semantic Role Labelling with BERT\n",
        "\n",
        "The goal of this assignment is to train and evaluate a PropBank-style semantic role labeling (SRL) system. Following (Collobert et al. 2011) and others, we will treat this problem as a sequence-labeling task. For each input token, the system will predict a B-I-O tag, as illustrated in the following example:\n",
        "\n",
        "|The|judge|scheduled|to|preside|over|his|trial|was|removed|from|the|case|today|.|             \n",
        "|---|-----|---------|--|-------|----|---|-----|---|-------|----|---|----|-----|-|             \n",
        "|B-ARG1|I-ARG1|B-V|B-ARG2|I-ARG2|I-ARG2|I-ARG2|I-ARG2|O|O|O|O|O|O|O|\n",
        "|||schedule.01|||||||||||||\n",
        "\n",
        "Note that the same sentence may have multiple annotations for different predicates\n",
        "\n",
        "|The|judge|scheduled|to|preside|over|his|trial|was|removed|from|the|case|today|.|             \n",
        "|---|-----|---------|--|-------|----|---|-----|---|-------|----|---|----|-----|-|             \n",
        "|B-ARG1|I-ARG1|I-ARG1|I-ARG1|I-ARG1|I-ARG1|I-ARG1|I-ARG1|O|B-V|B-ARG2|I-ARG2|I-ARG2|B-ARGM-TMP|O|\n",
        "||||||||||remove.01||||||\n",
        "\n",
        "and not all predicates need to be verbs\n",
        "\n",
        "|The|judge|scheduled|to|preside|over|his|trial|was|removed|from|the|case|today|.|             \n",
        "|---|-----|---------|--|-------|----|---|-----|---|-------|----|---|----|-----|-|    \n",
        "|O|O|O|O|O|O|B-ARG1|B-V|O|O|O|O|O|O|O|\n",
        "||||||||try.02||||||||\n",
        "\n",
        "The SRL system will be implemented in [PyTorch](https://pytorch.org/). We will use BERT (in the implementation provided by the [Huggingface transformers](https://huggingface.co/docs/transformers/index) library) to compute contextualized token representations and a custom classification head to predict semantic roles. We will fine-tune the pretrained BERT model on the SRL task.\n"
      ]
    },
    {
      "cell_type": "markdown",
      "id": "ff12fe94",
      "metadata": {
        "id": "ff12fe94"
      },
      "source": [
        "### Overview of the Approach\n",
        "\n",
        "The model we will train is pretty straightforward. Essentially, we will just encode the sentence with BERT, then take the contextualized embedding for each token and feed it into a classifier to predict the corresponding tag.\n",
        "\n",
        "Because we are only working on argument identification and labeling (not predicate identification), it is essentially that we tell the model where the predicate is. This can be accomplished in various ways. The approach we will choose here repurposes Bert's *segment embeddings*.\n",
        "\n",
        "Recall that BERT is trained on two input sentences, seperated by [SEP], and on a next-sentence-prediction objective (in addition to the masked LM objective). To help BERT comprehend which sentence a given token belongs to, the original BERT uses a segment embedding, using A for the first sentene, and B for the second sentence 2.\n",
        "Because we are labeling only a single sentence at a time, we can use the segment embeddings to indicate the predicate position instead: The predicate is labeled as segment B (1) and all other tokens will be labeled as segment A (0).\n",
        "\n",
        "<img src=\"https://github.com/daniel-bauer/4705-f23-hw5/blob/main/bert_srl_model.png?raw=true\" width=400px>"
      ]
    },
    {
      "cell_type": "markdown",
      "id": "68325e53",
      "metadata": {
        "id": "68325e53"
      },
      "source": [
        "## Setup: GCP, Jupyter, PyTorch, GPU\n",
        "\n",
        "To make sure that PyTorch is available and can use the GPU,run the following cell which should return True. If it doesn't, make sure the GPU drivers and CUDA are installed correctly.\n",
        "\n",
        "GPU support is required for this assignment -- you will not be able to fine-tune BERT on a CPU."
      ]
    },
    {
      "cell_type": "code",
      "execution_count": 3,
      "id": "aad94eef",
      "metadata": {
        "id": "aad94eef",
        "colab": {
          "base_uri": "https://localhost:8080/"
        },
        "outputId": "1204479f-3530-4b37-96a2-170cf4da4926"
      },
      "outputs": [
        {
          "output_type": "execute_result",
          "data": {
            "text/plain": [
              "False"
            ]
          },
          "metadata": {},
          "execution_count": 3
        }
      ],
      "source": [
        "import torch\n",
        "torch.cuda.is_available()"
      ]
    },
    {
      "cell_type": "markdown",
      "id": "3fe1c8ac",
      "metadata": {
        "id": "3fe1c8ac"
      },
      "source": [
        "## Dataset: Ontonotes 5.0 English SRL annotations\n",
        "\n",
        "We will work with the English part of the [Ontonotes 5.0](https://catalog.ldc.upenn.edu/LDC2013T19) data. This is an extension of PropBank, using the same type of annotation. Ontonotes contains annotations other than predicate/argument structures, but we will use the PropBank style SRL annotations only. *Important*: This data set is provided to you for use in COMS 4705 only! Columbia is a subscriber to LDC and is allowed to use the data for educational purposes. However, you may not use the dataset in projects unrelated to Columbia teaching or research.\n",
        "\n",
        "If you haven't done so already, you can download the data here:\n"
      ]
    },
    {
      "cell_type": "code",
      "execution_count": 4,
      "id": "0c2f2645",
      "metadata": {
        "colab": {
          "base_uri": "https://localhost:8080/"
        },
        "id": "0c2f2645",
        "outputId": "25501d8b-7db2-40fb-f00a-20ca532090a1"
      },
      "outputs": [
        {
          "output_type": "stream",
          "name": "stdout",
          "text": [
            "--2024-04-22 13:58:36--  https://storage.googleapis.com/4705-bert-srl-data/ontonotes_srl.zip\n",
            "Resolving storage.googleapis.com (storage.googleapis.com)... 173.194.69.207, 173.194.79.207, 108.177.96.207, ...\n",
            "Connecting to storage.googleapis.com (storage.googleapis.com)|173.194.69.207|:443... connected.\n",
            "HTTP request sent, awaiting response... 200 OK\n",
            "Length: 12369688 (12M) [application/zip]\n",
            "Saving to: ‘ontonotes_srl.zip’\n",
            "\n",
            "ontonotes_srl.zip   100%[===================>]  11.80M  10.5MB/s    in 1.1s    \n",
            "\n",
            "2024-04-22 13:58:38 (10.5 MB/s) - ‘ontonotes_srl.zip’ saved [12369688/12369688]\n",
            "\n"
          ]
        }
      ],
      "source": [
        "! wget https://storage.googleapis.com/4705-bert-srl-data/ontonotes_srl.zip"
      ]
    },
    {
      "cell_type": "code",
      "execution_count": 5,
      "id": "14aad58e",
      "metadata": {
        "colab": {
          "base_uri": "https://localhost:8080/"
        },
        "id": "14aad58e",
        "outputId": "298ba79a-c03b-43db-d388-1d8b680411ac"
      },
      "outputs": [
        {
          "output_type": "stream",
          "name": "stdout",
          "text": [
            "Archive:  ontonotes_srl.zip\n",
            "  inflating: propbank_dev.tsv        \n",
            "  inflating: propbank_test.tsv       \n",
            "  inflating: propbank_train.tsv      \n",
            "  inflating: role_list.txt           \n"
          ]
        }
      ],
      "source": [
        "! unzip ontonotes_srl.zip"
      ]
    },
    {
      "cell_type": "markdown",
      "id": "8cae08a9",
      "metadata": {
        "id": "8cae08a9"
      },
      "source": [
        "The data has been pre-processed in the following format. There are three files:\n",
        "\n",
        "`propbank_dev.tsv`\t`propbank_test.tsv`\t`propbank_train.tsv`\n",
        "\n",
        "Each of these files is in a tab-separated value format. A single predicate/argument structure annotation consists of four rows. For example\n",
        "\n",
        "```\n",
        "ontonotes/bc/cnn/00/cnn_0000.152.1\n",
        "The     judge   scheduled       to      preside over    his     trial   was     removed from    the     case    today   /.\n",
        "                schedule.01\n",
        "B-ARG1  I-ARG1  B-V     B-ARG2  I-ARG2  I-ARG2  I-ARG2  I-ARG2  O       O       O       O       O       O       O\n",
        "```\n",
        "\n",
        "* The first row is a unique identifier (1st annotation of the 152nd sentence in the file ontonotes/bc/cnn/00/cnn_0000).\n",
        "* The second row contains the tokens of the sentence (tab-separated).\n",
        "* The third row contains the probank frame name for the predicate (empty field for all other tokens).\n",
        "* The fourth row contains the B-I-O tag for each token.\n",
        "\n",
        "The file `rolelist.txt` contains a list of propbank BIO labels in the dataset (i.e. possible output tokens). This list has been filtered to contain only roles that appeared more than 1000 times in the training data.\n",
        "We will load this list and create mappings from numeric ids to BIO tags and back."
      ]
    },
    {
      "cell_type": "code",
      "execution_count": 6,
      "id": "dc4c027a",
      "metadata": {
        "id": "dc4c027a"
      },
      "outputs": [],
      "source": [
        "role_to_id = {}\n",
        "with open(\"role_list.txt\",'r') as f:\n",
        "    role_list = [x.strip() for x in f.readlines()]\n",
        "    role_to_id = dict((role, index) for (index, role) in enumerate(role_list))\n",
        "    role_to_id['[PAD]'] = -100\n",
        "\n",
        "    id_to_role = dict((index, role) for (role, index) in role_to_id.items())\n"
      ]
    },
    {
      "cell_type": "markdown",
      "id": "f07cdf31",
      "metadata": {
        "id": "f07cdf31"
      },
      "source": [
        "Note that we are also mapping the '[PAD]' token to the value -100. This allows the loss function to ignore these tokens during training."
      ]
    },
    {
      "cell_type": "markdown",
      "id": "88096be5",
      "metadata": {
        "id": "88096be5"
      },
      "source": [
        "\n",
        "\n"
      ]
    },
    {
      "cell_type": "markdown",
      "id": "aae727bf",
      "metadata": {
        "id": "aae727bf"
      },
      "source": [
        "## Part 1 - Data Preparation\n",
        "\n",
        "Before you can build the SRL model, you first need to preprocess the data.\n",
        "\n",
        "\n",
        "### 1.1 - Tokenization\n",
        "\n",
        "One challenge is that the pre-trained BERT model uses subword (\"WordPiece\") tokenization, but the Ontonotes data does not. Fortunately Huggingface transformers provides a tokenizer."
      ]
    },
    {
      "cell_type": "code",
      "execution_count": 7,
      "id": "8a2d7d03",
      "metadata": {
        "id": "8a2d7d03",
        "colab": {
          "base_uri": "https://localhost:8080/",
          "height": 457,
          "referenced_widgets": [
            "0a37027b38254db2bae0e7f741136045",
            "79ee1c6d8151473d8ed27e06ad55b2eb",
            "735d8f8b0daa406a98ac74bca722ef38",
            "690ca6c12f0549c596efc06151ee8eb9",
            "7851ae5857c04417addf06eb3ec56476",
            "0fc0730a8c434740901e91d1f7c164a5",
            "ba6bcde92ec64b879c36842c1521f70b",
            "afa43e4e0f564d498335a59de3075a84",
            "0db69615302244fa963390b675552102",
            "c9cf5cdf34f44970b22d2782279444ea",
            "436c4bf4b8c74a8685e766d37a7b5901",
            "912f05a51b6a4019a421234af8a65b0d",
            "d9e6342eb947461cb6f4112d8025a4fa",
            "29c7519d001447608b1bc9324cb7c603",
            "68d34221fc5742c097ae34be7bd2b95a",
            "529f65658d0944ec9eec96d90921765c",
            "f2259a2b70544817a551ce63210b162b",
            "db627eb4a3764c15afdae88a125f7f5c",
            "3fed0b023dcb4abb9544fb92c3159f3a",
            "6f1d43d06bea4b7ab6b199af997a7caa",
            "da619949561c41eb825b691fe5a25c1b",
            "a284a4e6a0924cd2a23f30141a4b4642",
            "cddf67bbd94442999c40cd3118858761",
            "f6885cfb77eb41feb0d50479b0b3e974",
            "21d4020d98654e48af1732af78583f58",
            "ec2d25ee113f46789bb51fb8f6873731",
            "33bd609a8b4946fc8fea262de7776aef",
            "c7ebfd4bbbe640c4aee568a1f65ad528",
            "0c79e006911948d89eb6de247fa94557",
            "fbeba2bb788c4eaf86dc72aafaceb3a1",
            "971fb920153f4c5986b426c96b265e87",
            "27e81411939f4c2db62569739d4f2b6c",
            "27e9d5522b50422cad82227292972ba3",
            "384b17eb1aa94d00aedb30f2141961bd",
            "0ec5f38c4cab4615af769a97ee2d46ad",
            "e61f76a0980644e3aec7cb617f566d8a",
            "7571c5d4840a42419868582c48540f36",
            "f84b78b0652e49968dcb6a2f7f50e038",
            "8e304ae732b44d2e807ce1c6799d021b",
            "f2f7798ca1e04f4383ae50f097ab7c5f",
            "7994bdecb58546e7b2088046c3f46368",
            "27e91414f02247088aa025b9b5f47d87",
            "3d19929240a94b36ae369be2ee3c5d4f",
            "12dce8918ad74a3f9d6e312fdd43b159"
          ]
        },
        "outputId": "86639a1b-ce42-4147-be3a-47547ad48aac"
      },
      "outputs": [
        {
          "output_type": "stream",
          "name": "stderr",
          "text": [
            "/usr/local/lib/python3.10/dist-packages/huggingface_hub/utils/_token.py:88: UserWarning: \n",
            "The secret `HF_TOKEN` does not exist in your Colab secrets.\n",
            "To authenticate with the Hugging Face Hub, create a token in your settings tab (https://huggingface.co/settings/tokens), set it as secret in your Google Colab and restart your session.\n",
            "You will be able to reuse this secret in all of your notebooks.\n",
            "Please note that authentication is recommended but still optional to access public models or datasets.\n",
            "  warnings.warn(\n"
          ]
        },
        {
          "output_type": "display_data",
          "data": {
            "text/plain": [
              "tokenizer_config.json:   0%|          | 0.00/48.0 [00:00<?, ?B/s]"
            ],
            "application/vnd.jupyter.widget-view+json": {
              "version_major": 2,
              "version_minor": 0,
              "model_id": "0a37027b38254db2bae0e7f741136045"
            }
          },
          "metadata": {}
        },
        {
          "output_type": "display_data",
          "data": {
            "text/plain": [
              "vocab.txt:   0%|          | 0.00/232k [00:00<?, ?B/s]"
            ],
            "application/vnd.jupyter.widget-view+json": {
              "version_major": 2,
              "version_minor": 0,
              "model_id": "912f05a51b6a4019a421234af8a65b0d"
            }
          },
          "metadata": {}
        },
        {
          "output_type": "display_data",
          "data": {
            "text/plain": [
              "tokenizer.json:   0%|          | 0.00/466k [00:00<?, ?B/s]"
            ],
            "application/vnd.jupyter.widget-view+json": {
              "version_major": 2,
              "version_minor": 0,
              "model_id": "cddf67bbd94442999c40cd3118858761"
            }
          },
          "metadata": {}
        },
        {
          "output_type": "display_data",
          "data": {
            "text/plain": [
              "config.json:   0%|          | 0.00/570 [00:00<?, ?B/s]"
            ],
            "application/vnd.jupyter.widget-view+json": {
              "version_major": 2,
              "version_minor": 0,
              "model_id": "384b17eb1aa94d00aedb30f2141961bd"
            }
          },
          "metadata": {}
        },
        {
          "output_type": "execute_result",
          "data": {
            "text/plain": [
              "['this',\n",
              " 'is',\n",
              " 'an',\n",
              " 'un',\n",
              " '##bel',\n",
              " '##ie',\n",
              " '##va',\n",
              " '##bly',\n",
              " 'boring',\n",
              " 'test',\n",
              " 'sentence',\n",
              " '.']"
            ]
          },
          "metadata": {},
          "execution_count": 7
        }
      ],
      "source": [
        "from transformers import BertTokenizerFast\n",
        "tokenizer = BertTokenizerFast.from_pretrained('bert-base-uncased', do_lower_case=True)\n",
        "tokenizer.tokenize(\"This is an unbelievably boring test sentence.\")"
      ]
    },
    {
      "cell_type": "markdown",
      "id": "ac1924bd",
      "metadata": {
        "id": "ac1924bd"
      },
      "source": [
        "**TODO**:\n",
        "We need to be able to maintain the correct labels (B-I-O tags) for each of the subwords.\n",
        "Complete the following function that takes a list of tokens and a list of B-I-O labels of the same length as parameters, and returns a new token / label pair, as illustrated in the following example.\n",
        "\n",
        "\n",
        "```\n",
        ">>> tokenize_with_labels(\"the fancyful penguin devoured yummy fish .\".split(), \"B-ARG0 I-ARG0 I-ARG0 B-V B-ARG1 I-ARG1 O\".split(), tokenizer)\n",
        "(['the',\n",
        "  'fancy',\n",
        "  '##ful',\n",
        "  'penguin',\n",
        "  'dev',\n",
        "  '##oured',\n",
        "  'yu',\n",
        "  '##mmy',\n",
        "  'fish',\n",
        "  '.'],\n",
        " ['B-ARG0',\n",
        "  'I-ARG0',\n",
        "  'I-ARG0',\n",
        "  'I-ARG0',\n",
        "  'B-V',\n",
        "  'I-V',\n",
        "  'B-ARG1',\n",
        "  'I-ARG1',\n",
        "  'I-ARG1',\n",
        "  'O'])\n",
        "\n",
        "```\n",
        "\n",
        "To approach this problem, iterate through each word/label pair in the sentence. Call the tokenizer on the word. This may result in one or more tokens. Create the correct number of labels to match the number of tokens. Take care to not generate multiple B- tokens.\n",
        "\n",
        "\n",
        "This approach is a bit slower than tokenizing the entire sentence, but is necessary to produce proper input tokenization for the pre-trained BERT model, and the matching target labels."
      ]
    },
    {
      "cell_type": "code",
      "execution_count": 37,
      "id": "8140fc39",
      "metadata": {
        "id": "8140fc39"
      },
      "outputs": [],
      "source": [
        "def tokenize_with_labels(sentence, text_labels, tokenizer):\n",
        "    \"\"\"\n",
        "    Word piece tokenization makes it difficult to match word labels\n",
        "    back up with individual word pieces.\n",
        "    \"\"\"\n",
        "\n",
        "    tokenized_sentence = []\n",
        "    labels = []\n",
        "\n",
        "    for word, label in zip(sentence, text_labels):\n",
        "      toks = tokenizer.tokenize(word)\n",
        "      count = 0\n",
        "      for t in toks:\n",
        "        if count != 0:\n",
        "          label = label.replace(\"B\", \"I\", 1)\n",
        "        tokenized_sentence.append(str(t))\n",
        "        labels.append(str(label))\n",
        "        count += 1\n",
        "\n",
        "    return tokenized_sentence, labels"
      ]
    },
    {
      "cell_type": "code",
      "execution_count": 38,
      "id": "f748d120",
      "metadata": {
        "colab": {
          "base_uri": "https://localhost:8080/"
        },
        "id": "f748d120",
        "outputId": "08e70ade-d8b3-4350-9d20-2541dc8a556f"
      },
      "outputs": [
        {
          "output_type": "execute_result",
          "data": {
            "text/plain": [
              "(['the',\n",
              "  'fancy',\n",
              "  '##ful',\n",
              "  'penguin',\n",
              "  'dev',\n",
              "  '##oured',\n",
              "  'yu',\n",
              "  '##mmy',\n",
              "  'fish',\n",
              "  '.'],\n",
              " ['B-ARG0',\n",
              "  'I-ARG0',\n",
              "  'I-ARG0',\n",
              "  'I-ARG0',\n",
              "  'B-V',\n",
              "  'I-V',\n",
              "  'B-ARG1',\n",
              "  'I-ARG1',\n",
              "  'I-ARG1',\n",
              "  'O'])"
            ]
          },
          "metadata": {},
          "execution_count": 38
        }
      ],
      "source": [
        "tokenize_with_labels(\"the fancyful penguin devoured yummy fish .\".split(), \"B-ARG0 I-ARG0 I-ARG0 B-V B-ARG1 I-ARG1 O\".split(), tokenizer)"
      ]
    },
    {
      "cell_type": "markdown",
      "id": "77bb9076",
      "metadata": {
        "id": "77bb9076"
      },
      "source": [
        "### 1.2 Loading the Dataset\n",
        "\n",
        "Next, we are creating a PyTorch [Dataset](https://pytorch.org/docs/stable/data.html#torch.utils.data.Dataset) class. This class acts as a contained for the training, development, and testing data in memory. You should already be familiar with Datasets and Dataloaders from homework 3.\n",
        "\n",
        "1.2.1 **TODO**: Write the \\_\\_init\\_\\_(self, filename) method that reads in the data from a data file (specified by the filename).\n",
        "\n",
        "For each annotation you start with  the tokens in the sentence, and the BIO tags. Then you need to create the following\n",
        "\n",
        "1. call the `tokenize_with_labels` function to tokenize the sentence.\n",
        "2. Add the (token, label) pair to the self.items list.\n",
        "\n",
        "1.2.2 **TODO**: Write the \\_\\_len\\_\\_(self) method that returns the total number of items.\n",
        "\n",
        "1.2.3 **TODO**: Write the \\_\\_getitem\\_\\_(self, k) method that returns a single item in a format BERT will understand.\n",
        "* We need to process the sentence by adding \"\\[CLS\\]\" as the first token and \"\\[SEP\\]\" as the last token. The need to pad the token sequence to 128 tokens using the \"\\[PAD\\]\" symbol. This needs to happen both for the inputs (sentence token sequence) and outputs (BIO tag sequence).\n",
        "* We need to create an *attention mask*, which is a sequence of 128 tokens indicating the actual input symbols (as a 1) and \\[PAD\\] symbols (as a 0).\n",
        "* We need to create a *predicate indicator* mask, which is a sequence of 128 tokens with at most one 1, in the position of the \"B-V\" tag. All other entries should be 0. The model will use this information to understand where the predicate is located.\n",
        "\n",
        "* Finally, we need to convert the token and tag sequence into numeric indices. For the tokens, this can be done using the `tokenizer.convert_tokens_to_ids` method. For the tags, use the `role_to_id` dictionary.\n",
        "Each sequence must be a pytorch tensor of shape (1,128). You can convert a list of integer values like this `torch.tensor(token_ids, dtype=torch.long)`.\n",
        "\n",
        "To keep everything organized, we will return a dictionary in the following format\n",
        "\n",
        "```\n",
        "{'ids': token_tensor,\n",
        " 'targets': tag_tensor,\n",
        " 'mask': attention_mask_tensor,\n",
        " 'pred': predicate_indicator_tensor}\n",
        "```\n",
        "\n",
        "\n",
        "(Hint: To debug these, read in the first annotation only / the first few annotations)\n"
      ]
    },
    {
      "cell_type": "code",
      "execution_count": 72,
      "id": "9f5bd32f",
      "metadata": {
        "id": "9f5bd32f"
      },
      "outputs": [],
      "source": [
        "from torch.utils.data import Dataset, DataLoader\n",
        "\n",
        "class SrlData(Dataset):\n",
        "\n",
        "# For each annotation you start with the tokens in the sentence, and the BIO tags. Then you need to create the following\n",
        "# call the tokenize_with_labels function to tokenize the sentence.\n",
        "# Add the (token, label) pair to the self.items list.\n",
        "    def __init__(self, filename):\n",
        "        super(SrlData, self).__init__()\n",
        "\n",
        "        self.max_len = 128 # the max number of tokens inputted to the transformer.\n",
        "\n",
        "        self.tokenizer = BertTokenizerFast.from_pretrained('bert-base-uncased', do_lower_case=True)\n",
        "\n",
        "        self.items = []\n",
        "        # complete this method\n",
        "        curr_line = 0\n",
        "        sentence = \"\"\n",
        "        labels = \"\"\n",
        "        with open(filename, 'r') as file:\n",
        "          count = 0\n",
        "          for line in file:\n",
        "            if(curr_line == 1):\n",
        "              sentence = line\n",
        "            if(curr_line == 3):\n",
        "              labels = line\n",
        "              ret_toks, ret_labels = tokenize_with_labels(sentence.split(), labels.split(), self.tokenizer)\n",
        "              self.items.append((ret_toks, ret_labels))\n",
        "              sentence = []\n",
        "              labels = []\n",
        "\n",
        "            if(curr_line >= 3):\n",
        "              curr_line = 0\n",
        "            else:\n",
        "              curr_line += 1\n",
        "\n",
        "            count += 1\n",
        "            if(count > 10):\n",
        "              break\n",
        "\n",
        "\n",
        "    def __len__(self):\n",
        "        return len(self.items)\n",
        "\n",
        "    def __getitem__(self, k):\n",
        "      if(len(self.items) <= k):\n",
        "        return None\n",
        "\n",
        "      sentence = []\n",
        "      labels = []\n",
        "      orig_item = self.items[k]\n",
        "      count = 0\n",
        "      for line in orig_item:\n",
        "        if(count == 0):\n",
        "          sentence = line\n",
        "          count += 1\n",
        "        else:\n",
        "          labels = line\n",
        "\n",
        "      # We need to process the sentence by adding \"[CLS]\" as the first token and \"[SEP]\" as the last token.\n",
        "      # The need to pad the token sequence to 128 tokens using the \"[PAD]\" symbol.\n",
        "      # This needs to happen both for the inputs (sentence token sequence) and outputs (BIO tag sequence).\n",
        "      sentence.insert(0, \"CLS\")\n",
        "      labels.insert(0, \"CLS\")\n",
        "      sentence.append(\"SEP\")\n",
        "      labels.append(\"SEP\")\n",
        "\n",
        "      # We need to create an attention mask, which is a sequence of 128 tokens indicating the actual input symbols (as a 1) and [PAD] symbols (as a 0).\n",
        "      attention = torch.ones(128)\n",
        "\n",
        "      sentence_len = len(sentence)\n",
        "      pad_num = 128 - sentence_len\n",
        "      for i in range(pad_num):\n",
        "        sentence.append(\"PAD\")\n",
        "        labels.append(\"PAD\")\n",
        "        attention[sentence_len + i] = 0\n",
        "\n",
        "      # print(sentence)\n",
        "      # print(attention)\n",
        "      # print(len(sentence))\n",
        "\n",
        "      # We need to create a predicate indicator mask, which is a sequence of 128 tokens with at most one 1, in the position of the \"B-V\" tag. All other entries should be 0.\n",
        "      predicate = torch.zeros(128)\n",
        "      for i in range(len(labels)):\n",
        "        if(labels[i] == \"PAD\"):\n",
        "          break\n",
        "        if(labels[i] == \"B-V\"):\n",
        "          predicate[i] = 1\n",
        "          break\n",
        "\n",
        "      # print(labels)\n",
        "      # print(predicate)\n",
        "\n",
        "      # Finally, we need to convert the token and tag sequence into numeric indices.\n",
        "      # For the tokens, this can be done using the tokenizer.convert_tokens_to_ids method.\n",
        "      # For the tags, use the role_to_id dictionary. Each sequence must be a pytorch tensor of shape (1,128).\n",
        "      # You can convert a list of integer values like this torch.tensor(token_ids, dtype=torch.long).\n",
        "      token_ids = tokenizer.convert_tokens_to_ids(sentence)\n",
        "      token_tensor = torch.tensor(token_ids, dtype=torch.long)\n",
        "      # CLS is not recognized...? -1 default value\n",
        "      label_ids = [role_to_id.get(label, -1) for label in labels]\n",
        "      label_tensor = torch.tensor(label_ids, dtype=torch.long)\n",
        "\n",
        "      #complete this method\n",
        "      return {'ids': token_tensor,\n",
        "              'mask':  attention,\n",
        "              'targets': label_tensor,\n",
        "              'pred': predicate\n",
        "             }\n"
      ]
    },
    {
      "cell_type": "code",
      "execution_count": 73,
      "id": "da0b476d",
      "metadata": {
        "colab": {
          "base_uri": "https://localhost:8080/"
        },
        "id": "da0b476d",
        "outputId": "9d0f1d43-9944-4e8b-e577-395157a35321"
      },
      "outputs": [
        {
          "output_type": "execute_result",
          "data": {
            "text/plain": [
              "{'ids': tensor([  100,  2057, 26438,  2135, 13260,  2017,  2000,  3422,  1037,  2569,\n",
              "          3179,  1997,  2408,  2859,  1012,   100,   100,   100,   100,   100,\n",
              "           100,   100,   100,   100,   100,   100,   100,   100,   100,   100,\n",
              "           100,   100,   100,   100,   100,   100,   100,   100,   100,   100,\n",
              "           100,   100,   100,   100,   100,   100,   100,   100,   100,   100,\n",
              "           100,   100,   100,   100,   100,   100,   100,   100,   100,   100,\n",
              "           100,   100,   100,   100,   100,   100,   100,   100,   100,   100,\n",
              "           100,   100,   100,   100,   100,   100,   100,   100,   100,   100,\n",
              "           100,   100,   100,   100,   100,   100,   100,   100,   100,   100,\n",
              "           100,   100,   100,   100,   100,   100,   100,   100,   100,   100,\n",
              "           100,   100,   100,   100,   100,   100,   100,   100,   100,   100,\n",
              "           100,   100,   100,   100,   100,   100,   100,   100,   100,   100,\n",
              "           100,   100,   100,   100,   100,   100,   100,   100]),\n",
              " 'mask': tensor([1., 1., 1., 1., 1., 1., 1., 1., 1., 1., 1., 1., 1., 1., 1., 1., 0., 0.,\n",
              "         0., 0., 0., 0., 0., 0., 0., 0., 0., 0., 0., 0., 0., 0., 0., 0., 0., 0.,\n",
              "         0., 0., 0., 0., 0., 0., 0., 0., 0., 0., 0., 0., 0., 0., 0., 0., 0., 0.,\n",
              "         0., 0., 0., 0., 0., 0., 0., 0., 0., 0., 0., 0., 0., 0., 0., 0., 0., 0.,\n",
              "         0., 0., 0., 0., 0., 0., 0., 0., 0., 0., 0., 0., 0., 0., 0., 0., 0., 0.,\n",
              "         0., 0., 0., 0., 0., 0., 0., 0., 0., 0., 0., 0., 0., 0., 0., 0., 0., 0.,\n",
              "         0., 0., 0., 0., 0., 0., 0., 0., 0., 0., 0., 0., 0., 0., 0., 0., 0., 0.,\n",
              "         0., 0.]),\n",
              " 'targets': tensor([-1,  4,  4,  4,  4,  5,  4, 28,  6, 30, 30, 30, 30, 30,  4, -1, -1, -1,\n",
              "         -1, -1, -1, -1, -1, -1, -1, -1, -1, -1, -1, -1, -1, -1, -1, -1, -1, -1,\n",
              "         -1, -1, -1, -1, -1, -1, -1, -1, -1, -1, -1, -1, -1, -1, -1, -1, -1, -1,\n",
              "         -1, -1, -1, -1, -1, -1, -1, -1, -1, -1, -1, -1, -1, -1, -1, -1, -1, -1,\n",
              "         -1, -1, -1, -1, -1, -1, -1, -1, -1, -1, -1, -1, -1, -1, -1, -1, -1, -1,\n",
              "         -1, -1, -1, -1, -1, -1, -1, -1, -1, -1, -1, -1, -1, -1, -1, -1, -1, -1,\n",
              "         -1, -1, -1, -1, -1, -1, -1, -1, -1, -1, -1, -1, -1, -1, -1, -1, -1, -1,\n",
              "         -1, -1]),\n",
              " 'pred': tensor([0., 0., 0., 0., 0., 0., 0., 1., 0., 0., 0., 0., 0., 0., 0., 0., 0., 0.,\n",
              "         0., 0., 0., 0., 0., 0., 0., 0., 0., 0., 0., 0., 0., 0., 0., 0., 0., 0.,\n",
              "         0., 0., 0., 0., 0., 0., 0., 0., 0., 0., 0., 0., 0., 0., 0., 0., 0., 0.,\n",
              "         0., 0., 0., 0., 0., 0., 0., 0., 0., 0., 0., 0., 0., 0., 0., 0., 0., 0.,\n",
              "         0., 0., 0., 0., 0., 0., 0., 0., 0., 0., 0., 0., 0., 0., 0., 0., 0., 0.,\n",
              "         0., 0., 0., 0., 0., 0., 0., 0., 0., 0., 0., 0., 0., 0., 0., 0., 0., 0.,\n",
              "         0., 0., 0., 0., 0., 0., 0., 0., 0., 0., 0., 0., 0., 0., 0., 0., 0., 0.,\n",
              "         0., 0.])}"
            ]
          },
          "metadata": {},
          "execution_count": 73
        }
      ],
      "source": [
        "# Reading the training data takes a while for the entire data because we preprocess all data offline\n",
        "data = SrlData(\"propbank_train.tsv\")\n",
        "data.__getitem__(1)"
      ]
    },
    {
      "cell_type": "markdown",
      "id": "0730aff9",
      "metadata": {
        "id": "0730aff9"
      },
      "source": [
        "## 2. Model Definition"
      ]
    },
    {
      "cell_type": "code",
      "execution_count": 74,
      "id": "cb11f9c0",
      "metadata": {
        "id": "cb11f9c0"
      },
      "outputs": [],
      "source": [
        "from torch.nn import Module, Linear, CrossEntropyLoss\n",
        "from transformers import BertModel"
      ]
    },
    {
      "cell_type": "markdown",
      "id": "da684eff",
      "metadata": {
        "id": "da684eff"
      },
      "source": [
        "We will define the pyTorch model as a subclass of the [torch.nn.Module](https://pytorch.org/docs/stable/generated/torch.nn.Module.html) class. The code for the model is provided for you. It may help to take a look at the documentation to remind you of how Module works. Take a look at how the huggingface BERT model simply becomes another sub-module."
      ]
    },
    {
      "cell_type": "code",
      "execution_count": 13,
      "id": "37515695",
      "metadata": {
        "id": "37515695"
      },
      "outputs": [],
      "source": [
        "class SrlModel(Module):\n",
        "\n",
        "    def __init__(self):\n",
        "\n",
        "        super(SrlModel, self).__init__()\n",
        "\n",
        "        self.encoder = BertModel.from_pretrained(\"bert-base-uncased\")\n",
        "\n",
        "        # The following two lines would freeze the BERT parameters and allow us to train the classifier by itself.\n",
        "        # We are fine-tuning the model, so you can leave this commented out!\n",
        "        # for param in self.encoder.parameters():\n",
        "        #    param.requires_grad = False\n",
        "\n",
        "        # The linear classifier head, see model figure in the introduction.\n",
        "        self.classifier = Linear(768, len(role_to_id))\n",
        "\n",
        "\n",
        "    def forward(self, input_ids, attn_mask, pred_indicator):\n",
        "\n",
        "        # This defines the flow of data through the model\n",
        "\n",
        "        # Note the use of the \"token type ids\" which represents the segment encoding explained in the introduction.\n",
        "        # In our segment encoding, 1 indicates the predicate, and 0 indicates everything else.\n",
        "        bert_output =  self.encoder(input_ids=input_ids, attention_mask=attn_mask, token_type_ids=pred_indicator)\n",
        "\n",
        "        enc_tokens = bert_output[0] # the result of encoding the input with BERT\n",
        "        logits = self.classifier(enc_tokens) #feed into the classification layer to produce scores for each tag.\n",
        "\n",
        "        # Note that we are only interested in the argmax for each token, so we do not have to normalize\n",
        "        # to a probability distribution using softmax. The CrossEntropyLoss loss function takes this into account.\n",
        "        # It essentially computes the softmax first and then computes the negative log-likelihood for the target classes.\n",
        "        return logits"
      ]
    },
    {
      "cell_type": "code",
      "execution_count": 75,
      "id": "ba23ec3f",
      "metadata": {
        "id": "ba23ec3f",
        "colab": {
          "base_uri": "https://localhost:8080/",
          "height": 287
        },
        "outputId": "d9888551-bf33-4d7d-9d82-21bc2acbb0a2"
      },
      "outputs": [
        {
          "output_type": "error",
          "ename": "RuntimeError",
          "evalue": "Found no NVIDIA driver on your system. Please check that you have an NVIDIA GPU and installed a driver from http://www.nvidia.com/Download/index.aspx",
          "traceback": [
            "\u001b[0;31m---------------------------------------------------------------------------\u001b[0m",
            "\u001b[0;31mRuntimeError\u001b[0m                              Traceback (most recent call last)",
            "\u001b[0;32m<ipython-input-75-8d1528dd8789>\u001b[0m in \u001b[0;36m<cell line: 1>\u001b[0;34m()\u001b[0m\n\u001b[0;32m----> 1\u001b[0;31m \u001b[0mmodel\u001b[0m \u001b[0;34m=\u001b[0m \u001b[0mSrlModel\u001b[0m\u001b[0;34m(\u001b[0m\u001b[0;34m)\u001b[0m\u001b[0;34m.\u001b[0m\u001b[0mto\u001b[0m\u001b[0;34m(\u001b[0m\u001b[0;34m'cuda'\u001b[0m\u001b[0;34m)\u001b[0m \u001b[0;31m# create new model and store weights in GPU memory\u001b[0m\u001b[0;34m\u001b[0m\u001b[0;34m\u001b[0m\u001b[0m\n\u001b[0m",
            "\u001b[0;32m/usr/local/lib/python3.10/dist-packages/torch/nn/modules/module.py\u001b[0m in \u001b[0;36mto\u001b[0;34m(self, *args, **kwargs)\u001b[0m\n\u001b[1;32m   1150\u001b[0m             \u001b[0;32mreturn\u001b[0m \u001b[0mt\u001b[0m\u001b[0;34m.\u001b[0m\u001b[0mto\u001b[0m\u001b[0;34m(\u001b[0m\u001b[0mdevice\u001b[0m\u001b[0;34m,\u001b[0m \u001b[0mdtype\u001b[0m \u001b[0;32mif\u001b[0m \u001b[0mt\u001b[0m\u001b[0;34m.\u001b[0m\u001b[0mis_floating_point\u001b[0m\u001b[0;34m(\u001b[0m\u001b[0;34m)\u001b[0m \u001b[0;32mor\u001b[0m \u001b[0mt\u001b[0m\u001b[0;34m.\u001b[0m\u001b[0mis_complex\u001b[0m\u001b[0;34m(\u001b[0m\u001b[0;34m)\u001b[0m \u001b[0;32melse\u001b[0m \u001b[0;32mNone\u001b[0m\u001b[0;34m,\u001b[0m \u001b[0mnon_blocking\u001b[0m\u001b[0;34m)\u001b[0m\u001b[0;34m\u001b[0m\u001b[0;34m\u001b[0m\u001b[0m\n\u001b[1;32m   1151\u001b[0m \u001b[0;34m\u001b[0m\u001b[0m\n\u001b[0;32m-> 1152\u001b[0;31m         \u001b[0;32mreturn\u001b[0m \u001b[0mself\u001b[0m\u001b[0;34m.\u001b[0m\u001b[0m_apply\u001b[0m\u001b[0;34m(\u001b[0m\u001b[0mconvert\u001b[0m\u001b[0;34m)\u001b[0m\u001b[0;34m\u001b[0m\u001b[0;34m\u001b[0m\u001b[0m\n\u001b[0m\u001b[1;32m   1153\u001b[0m \u001b[0;34m\u001b[0m\u001b[0m\n\u001b[1;32m   1154\u001b[0m     def register_full_backward_pre_hook(\n",
            "\u001b[0;32m/usr/local/lib/python3.10/dist-packages/torch/nn/modules/module.py\u001b[0m in \u001b[0;36m_apply\u001b[0;34m(self, fn, recurse)\u001b[0m\n\u001b[1;32m    800\u001b[0m         \u001b[0;32mif\u001b[0m \u001b[0mrecurse\u001b[0m\u001b[0;34m:\u001b[0m\u001b[0;34m\u001b[0m\u001b[0;34m\u001b[0m\u001b[0m\n\u001b[1;32m    801\u001b[0m             \u001b[0;32mfor\u001b[0m \u001b[0mmodule\u001b[0m \u001b[0;32min\u001b[0m \u001b[0mself\u001b[0m\u001b[0;34m.\u001b[0m\u001b[0mchildren\u001b[0m\u001b[0;34m(\u001b[0m\u001b[0;34m)\u001b[0m\u001b[0;34m:\u001b[0m\u001b[0;34m\u001b[0m\u001b[0;34m\u001b[0m\u001b[0m\n\u001b[0;32m--> 802\u001b[0;31m                 \u001b[0mmodule\u001b[0m\u001b[0;34m.\u001b[0m\u001b[0m_apply\u001b[0m\u001b[0;34m(\u001b[0m\u001b[0mfn\u001b[0m\u001b[0;34m)\u001b[0m\u001b[0;34m\u001b[0m\u001b[0;34m\u001b[0m\u001b[0m\n\u001b[0m\u001b[1;32m    803\u001b[0m \u001b[0;34m\u001b[0m\u001b[0m\n\u001b[1;32m    804\u001b[0m         \u001b[0;32mdef\u001b[0m \u001b[0mcompute_should_use_set_data\u001b[0m\u001b[0;34m(\u001b[0m\u001b[0mtensor\u001b[0m\u001b[0;34m,\u001b[0m \u001b[0mtensor_applied\u001b[0m\u001b[0;34m)\u001b[0m\u001b[0;34m:\u001b[0m\u001b[0;34m\u001b[0m\u001b[0;34m\u001b[0m\u001b[0m\n",
            "\u001b[0;32m/usr/local/lib/python3.10/dist-packages/torch/nn/modules/module.py\u001b[0m in \u001b[0;36m_apply\u001b[0;34m(self, fn, recurse)\u001b[0m\n\u001b[1;32m    800\u001b[0m         \u001b[0;32mif\u001b[0m \u001b[0mrecurse\u001b[0m\u001b[0;34m:\u001b[0m\u001b[0;34m\u001b[0m\u001b[0;34m\u001b[0m\u001b[0m\n\u001b[1;32m    801\u001b[0m             \u001b[0;32mfor\u001b[0m \u001b[0mmodule\u001b[0m \u001b[0;32min\u001b[0m \u001b[0mself\u001b[0m\u001b[0;34m.\u001b[0m\u001b[0mchildren\u001b[0m\u001b[0;34m(\u001b[0m\u001b[0;34m)\u001b[0m\u001b[0;34m:\u001b[0m\u001b[0;34m\u001b[0m\u001b[0;34m\u001b[0m\u001b[0m\n\u001b[0;32m--> 802\u001b[0;31m                 \u001b[0mmodule\u001b[0m\u001b[0;34m.\u001b[0m\u001b[0m_apply\u001b[0m\u001b[0;34m(\u001b[0m\u001b[0mfn\u001b[0m\u001b[0;34m)\u001b[0m\u001b[0;34m\u001b[0m\u001b[0;34m\u001b[0m\u001b[0m\n\u001b[0m\u001b[1;32m    803\u001b[0m \u001b[0;34m\u001b[0m\u001b[0m\n\u001b[1;32m    804\u001b[0m         \u001b[0;32mdef\u001b[0m \u001b[0mcompute_should_use_set_data\u001b[0m\u001b[0;34m(\u001b[0m\u001b[0mtensor\u001b[0m\u001b[0;34m,\u001b[0m \u001b[0mtensor_applied\u001b[0m\u001b[0;34m)\u001b[0m\u001b[0;34m:\u001b[0m\u001b[0;34m\u001b[0m\u001b[0;34m\u001b[0m\u001b[0m\n",
            "\u001b[0;32m/usr/local/lib/python3.10/dist-packages/torch/nn/modules/module.py\u001b[0m in \u001b[0;36m_apply\u001b[0;34m(self, fn, recurse)\u001b[0m\n\u001b[1;32m    800\u001b[0m         \u001b[0;32mif\u001b[0m \u001b[0mrecurse\u001b[0m\u001b[0;34m:\u001b[0m\u001b[0;34m\u001b[0m\u001b[0;34m\u001b[0m\u001b[0m\n\u001b[1;32m    801\u001b[0m             \u001b[0;32mfor\u001b[0m \u001b[0mmodule\u001b[0m \u001b[0;32min\u001b[0m \u001b[0mself\u001b[0m\u001b[0;34m.\u001b[0m\u001b[0mchildren\u001b[0m\u001b[0;34m(\u001b[0m\u001b[0;34m)\u001b[0m\u001b[0;34m:\u001b[0m\u001b[0;34m\u001b[0m\u001b[0;34m\u001b[0m\u001b[0m\n\u001b[0;32m--> 802\u001b[0;31m                 \u001b[0mmodule\u001b[0m\u001b[0;34m.\u001b[0m\u001b[0m_apply\u001b[0m\u001b[0;34m(\u001b[0m\u001b[0mfn\u001b[0m\u001b[0;34m)\u001b[0m\u001b[0;34m\u001b[0m\u001b[0;34m\u001b[0m\u001b[0m\n\u001b[0m\u001b[1;32m    803\u001b[0m \u001b[0;34m\u001b[0m\u001b[0m\n\u001b[1;32m    804\u001b[0m         \u001b[0;32mdef\u001b[0m \u001b[0mcompute_should_use_set_data\u001b[0m\u001b[0;34m(\u001b[0m\u001b[0mtensor\u001b[0m\u001b[0;34m,\u001b[0m \u001b[0mtensor_applied\u001b[0m\u001b[0;34m)\u001b[0m\u001b[0;34m:\u001b[0m\u001b[0;34m\u001b[0m\u001b[0;34m\u001b[0m\u001b[0m\n",
            "\u001b[0;32m/usr/local/lib/python3.10/dist-packages/torch/nn/modules/module.py\u001b[0m in \u001b[0;36m_apply\u001b[0;34m(self, fn, recurse)\u001b[0m\n\u001b[1;32m    823\u001b[0m             \u001b[0;31m# `with torch.no_grad():`\u001b[0m\u001b[0;34m\u001b[0m\u001b[0;34m\u001b[0m\u001b[0m\n\u001b[1;32m    824\u001b[0m             \u001b[0;32mwith\u001b[0m \u001b[0mtorch\u001b[0m\u001b[0;34m.\u001b[0m\u001b[0mno_grad\u001b[0m\u001b[0;34m(\u001b[0m\u001b[0;34m)\u001b[0m\u001b[0;34m:\u001b[0m\u001b[0;34m\u001b[0m\u001b[0;34m\u001b[0m\u001b[0m\n\u001b[0;32m--> 825\u001b[0;31m                 \u001b[0mparam_applied\u001b[0m \u001b[0;34m=\u001b[0m \u001b[0mfn\u001b[0m\u001b[0;34m(\u001b[0m\u001b[0mparam\u001b[0m\u001b[0;34m)\u001b[0m\u001b[0;34m\u001b[0m\u001b[0;34m\u001b[0m\u001b[0m\n\u001b[0m\u001b[1;32m    826\u001b[0m             \u001b[0mshould_use_set_data\u001b[0m \u001b[0;34m=\u001b[0m \u001b[0mcompute_should_use_set_data\u001b[0m\u001b[0;34m(\u001b[0m\u001b[0mparam\u001b[0m\u001b[0;34m,\u001b[0m \u001b[0mparam_applied\u001b[0m\u001b[0;34m)\u001b[0m\u001b[0;34m\u001b[0m\u001b[0;34m\u001b[0m\u001b[0m\n\u001b[1;32m    827\u001b[0m             \u001b[0;32mif\u001b[0m \u001b[0mshould_use_set_data\u001b[0m\u001b[0;34m:\u001b[0m\u001b[0;34m\u001b[0m\u001b[0;34m\u001b[0m\u001b[0m\n",
            "\u001b[0;32m/usr/local/lib/python3.10/dist-packages/torch/nn/modules/module.py\u001b[0m in \u001b[0;36mconvert\u001b[0;34m(t)\u001b[0m\n\u001b[1;32m   1148\u001b[0m                 return t.to(device, dtype if t.is_floating_point() or t.is_complex() else None,\n\u001b[1;32m   1149\u001b[0m                             non_blocking, memory_format=convert_to_format)\n\u001b[0;32m-> 1150\u001b[0;31m             \u001b[0;32mreturn\u001b[0m \u001b[0mt\u001b[0m\u001b[0;34m.\u001b[0m\u001b[0mto\u001b[0m\u001b[0;34m(\u001b[0m\u001b[0mdevice\u001b[0m\u001b[0;34m,\u001b[0m \u001b[0mdtype\u001b[0m \u001b[0;32mif\u001b[0m \u001b[0mt\u001b[0m\u001b[0;34m.\u001b[0m\u001b[0mis_floating_point\u001b[0m\u001b[0;34m(\u001b[0m\u001b[0;34m)\u001b[0m \u001b[0;32mor\u001b[0m \u001b[0mt\u001b[0m\u001b[0;34m.\u001b[0m\u001b[0mis_complex\u001b[0m\u001b[0;34m(\u001b[0m\u001b[0;34m)\u001b[0m \u001b[0;32melse\u001b[0m \u001b[0;32mNone\u001b[0m\u001b[0;34m,\u001b[0m \u001b[0mnon_blocking\u001b[0m\u001b[0;34m)\u001b[0m\u001b[0;34m\u001b[0m\u001b[0;34m\u001b[0m\u001b[0m\n\u001b[0m\u001b[1;32m   1151\u001b[0m \u001b[0;34m\u001b[0m\u001b[0m\n\u001b[1;32m   1152\u001b[0m         \u001b[0;32mreturn\u001b[0m \u001b[0mself\u001b[0m\u001b[0;34m.\u001b[0m\u001b[0m_apply\u001b[0m\u001b[0;34m(\u001b[0m\u001b[0mconvert\u001b[0m\u001b[0;34m)\u001b[0m\u001b[0;34m\u001b[0m\u001b[0;34m\u001b[0m\u001b[0m\n",
            "\u001b[0;32m/usr/local/lib/python3.10/dist-packages/torch/cuda/__init__.py\u001b[0m in \u001b[0;36m_lazy_init\u001b[0;34m()\u001b[0m\n\u001b[1;32m    300\u001b[0m         \u001b[0;32mif\u001b[0m \u001b[0;34m\"CUDA_MODULE_LOADING\"\u001b[0m \u001b[0;32mnot\u001b[0m \u001b[0;32min\u001b[0m \u001b[0mos\u001b[0m\u001b[0;34m.\u001b[0m\u001b[0menviron\u001b[0m\u001b[0;34m:\u001b[0m\u001b[0;34m\u001b[0m\u001b[0;34m\u001b[0m\u001b[0m\n\u001b[1;32m    301\u001b[0m             \u001b[0mos\u001b[0m\u001b[0;34m.\u001b[0m\u001b[0menviron\u001b[0m\u001b[0;34m[\u001b[0m\u001b[0;34m\"CUDA_MODULE_LOADING\"\u001b[0m\u001b[0;34m]\u001b[0m \u001b[0;34m=\u001b[0m \u001b[0;34m\"LAZY\"\u001b[0m\u001b[0;34m\u001b[0m\u001b[0;34m\u001b[0m\u001b[0m\n\u001b[0;32m--> 302\u001b[0;31m         \u001b[0mtorch\u001b[0m\u001b[0;34m.\u001b[0m\u001b[0m_C\u001b[0m\u001b[0;34m.\u001b[0m\u001b[0m_cuda_init\u001b[0m\u001b[0;34m(\u001b[0m\u001b[0;34m)\u001b[0m\u001b[0;34m\u001b[0m\u001b[0;34m\u001b[0m\u001b[0m\n\u001b[0m\u001b[1;32m    303\u001b[0m         \u001b[0;31m# Some of the queued calls may reentrantly call _lazy_init();\u001b[0m\u001b[0;34m\u001b[0m\u001b[0;34m\u001b[0m\u001b[0m\n\u001b[1;32m    304\u001b[0m         \u001b[0;31m# we need to just return without initializing in that case.\u001b[0m\u001b[0;34m\u001b[0m\u001b[0;34m\u001b[0m\u001b[0m\n",
            "\u001b[0;31mRuntimeError\u001b[0m: Found no NVIDIA driver on your system. Please check that you have an NVIDIA GPU and installed a driver from http://www.nvidia.com/Download/index.aspx"
          ]
        }
      ],
      "source": [
        "model = SrlModel().to('cuda') # create new model and store weights in GPU memory"
      ]
    },
    {
      "cell_type": "markdown",
      "id": "9103d32e",
      "metadata": {
        "id": "9103d32e"
      },
      "source": [
        "Now we are ready to try running the model with just a single input example to check if it is working correctly. Clearly it has not been trained, so the output is not what we expect. But we can see what the loss looks like for an initial sanity check.\n",
        "\n",
        "**TODO**:\n",
        "* Take a single data item from the dev set, as provided by your Dataset class defined above. Obtain the input token ids, attention mask, predicate indicator mask, and target labels.\n",
        "* Run the model on the ids, attention mask, and predicate mask like this:"
      ]
    },
    {
      "cell_type": "code",
      "execution_count": null,
      "id": "f1805480",
      "metadata": {
        "id": "f1805480"
      },
      "outputs": [],
      "source": [
        "# pick an item from the dataset. Then run\n",
        "\n",
        "outputs = model(ids, mask, pred)"
      ]
    },
    {
      "cell_type": "markdown",
      "id": "cd7fd38b",
      "metadata": {
        "id": "cd7fd38b"
      },
      "source": [
        "**TODO**:\n",
        "Compute the loss on this one item only.\n",
        "The initial loss should be close to -ln(1/num_labels)\n",
        "\n",
        "Without training we would assume that all labels for each token (including the target label) are equally likely, so the negative log probability for the targets should be approximately $$-\\ln(\\frac{1}{\\text{num_labels}}).$$ This is what the loss function should return on a single example. This is a good sanity check to run for any multi-class prediction problem."
      ]
    },
    {
      "cell_type": "code",
      "execution_count": null,
      "id": "1a5f881d",
      "metadata": {
        "id": "1a5f881d"
      },
      "outputs": [],
      "source": [
        "import math\n",
        "-math.log(1 / len(role_to_id), math.e)"
      ]
    },
    {
      "cell_type": "code",
      "execution_count": null,
      "id": "1a124d4f",
      "metadata": {
        "id": "1a124d4f"
      },
      "outputs": [],
      "source": [
        "loss_function = CrossEntropyLoss(ignore_index = -100, reduction='mean')\n",
        "\n",
        "# complete this. Note that you still have to provide a (batch_size, input_pos)\n",
        "# tensor for each parameter, where batch_size =1\n",
        "\n",
        "# outputs = model(ids, mask, pred)\n",
        "# loss = loss_function(...)\n",
        "# loss.item()   #this should be approximately the score from the previous cell\n"
      ]
    },
    {
      "cell_type": "markdown",
      "id": "669a1037",
      "metadata": {
        "id": "669a1037"
      },
      "source": [
        "**TODO**: At this point you should also obtain the actual predictions by taking the argmax over each position.\n",
        "The result should look something like this (values will differ).\n",
        "\n",
        "```\n",
        "tensor([[ 1,  4,  4,  4,  4,  4,  5, 29, 29, 29,  4, 28,  6, 32, 32, 32, 32, 32,\n",
        "         32, 32, 30, 30, 32, 30, 32,  4, 32, 32, 30,  4, 49,  4, 49, 32, 30,  4,\n",
        "         32,  4, 32, 32,  4,  2,  4,  4, 32,  4, 32, 32, 32, 32, 30, 32, 32, 30,\n",
        "         32,  4,  4, 49,  4,  4,  4,  4,  4,  4,  4,  4,  4,  4,  6,  6, 32, 32,\n",
        "         30, 32, 32, 32, 32, 32, 30, 30, 30, 32, 30, 49, 49, 32, 32, 30,  4,  4,\n",
        "          4,  4, 29,  4,  4,  4,  4,  4,  4, 32,  4,  4,  4, 32,  4, 30,  4, 32,\n",
        "         30,  4, 32,  4,  4,  4,  4,  4, 32,  4,  4,  4,  4,  4,  4,  4,  4,  4,\n",
        "          4,  4]], device='cuda:0')\n",
        "```\n",
        "\n",
        "Then use the id_to_role dictionary to decode to actual tokens.\n",
        "\n",
        "```\n",
        "['[CLS]', 'O', 'O', 'O', 'O', 'O', 'B-ARG0', 'I-ARG0', 'I-ARG0', 'I-ARG0', 'O', 'B-V', 'B-ARG1', 'I-ARG2', 'I-ARG2', 'I-ARG2', 'I-ARG2', 'I-ARG2', 'I-ARG2', 'I-ARG2', 'I-ARG1', 'I-ARG1', 'I-ARG2', 'I-ARG1', 'I-ARG2', 'O', 'I-ARG2', 'I-ARG2', 'I-ARG1', 'O', 'I-ARGM-TMP', 'O', 'I-ARGM-TMP', 'I-ARG2', 'I-ARG1', 'O', 'I-ARG2', 'O', 'I-ARG2', 'I-ARG2', 'O', '[SEP]', 'O', 'O', 'I-ARG2', 'O', 'I-ARG2', 'I-ARG2', 'I-ARG2', 'I-ARG2', 'I-ARG1', 'I-ARG2', 'I-ARG2', 'I-ARG1', 'I-ARG2', 'O', 'O', 'I-ARGM-TMP', 'O', 'O', 'O', 'O', 'O', 'O', 'O', 'O', 'O', 'O', 'B-ARG1', 'B-ARG1', 'I-ARG2', 'I-ARG2', 'I-ARG1', 'I-ARG2', 'I-ARG2', 'I-ARG2', 'I-ARG2', 'I-ARG2', 'I-ARG1', 'I-ARG1', 'I-ARG1', 'I-ARG2', 'I-ARG1', 'I-ARGM-TMP', 'I-ARGM-TMP', 'I-ARG2', 'I-ARG2', 'I-ARG1', 'O', 'O', 'O', 'O', 'I-ARG0', 'O', 'O', 'O', 'O', 'O', 'O', 'I-ARG2', 'O', 'O', 'O', 'I-ARG2', 'O', 'I-ARG1', 'O', 'I-ARG2', 'I-ARG1', 'O', 'I-ARG2', 'O', 'O', 'O', 'O', 'O', 'I-ARG2', 'O', 'O', 'O', 'O', 'O', 'O', 'O', 'O', 'O', 'O', 'O']\n",
        "```\n",
        "\n",
        "For now, just make sure you understand how to do this for a single example. Later, you will write a more formal function to do this once we have trained the model."
      ]
    },
    {
      "cell_type": "code",
      "execution_count": null,
      "id": "69c2dcc0",
      "metadata": {
        "id": "69c2dcc0"
      },
      "outputs": [],
      "source": []
    },
    {
      "cell_type": "markdown",
      "id": "20d52991",
      "metadata": {
        "id": "20d52991"
      },
      "source": [
        "## 3. Training loop"
      ]
    },
    {
      "cell_type": "markdown",
      "id": "edba250d",
      "metadata": {
        "id": "edba250d"
      },
      "source": [
        "pytorch provides a DataLoader class that can be wrapped around a Dataset to easily use the dataset for training. The DataLoader allows us to easily adjust the batch size and shuffle the data."
      ]
    },
    {
      "cell_type": "code",
      "execution_count": null,
      "id": "2ecd7448",
      "metadata": {
        "id": "2ecd7448"
      },
      "outputs": [],
      "source": [
        "from torch.utils.data import DataLoader\n",
        "loader = DataLoader(data, batch_size = 32, shuffle = True)"
      ]
    },
    {
      "cell_type": "markdown",
      "id": "e7496c62",
      "metadata": {
        "id": "e7496c62"
      },
      "source": [
        "The following cell contains the main training loop. The code should work as written and report the loss after each batch,\n",
        "cumulative average loss after each 100 batches, and print out the final average loss after the epoch.\n",
        "\n",
        "**TODO**: Modify the training loop belowso that it also computes the accuracy for each batch and reports the\n",
        "average accuracy after the epoch.\n",
        "The accuracy is the number of correctly predicted token labels out of the number of total predictions.\n",
        "Make sure you exclude [PAD] tokens, i.e. tokens for which the target label is -100. It's okay to include [CLS] and [SEP] in the accuracy calculation."
      ]
    },
    {
      "cell_type": "code",
      "execution_count": null,
      "id": "7a7abad9",
      "metadata": {
        "scrolled": true,
        "id": "7a7abad9"
      },
      "outputs": [],
      "source": [
        "loss_function = CrossEntropyLoss(ignore_index = -100, reduction='mean')\n",
        "\n",
        "LEARNING_RATE = 1e-05\n",
        "optimizer = torch.optim.AdamW(params=model.parameters(), lr=LEARNING_RATE)\n",
        "\n",
        "device = 'cuda'\n",
        "\n",
        "def train():\n",
        "    \"\"\"\n",
        "    Train the model for one epoch.\n",
        "    \"\"\"\n",
        "    tr_loss = 0\n",
        "    nb_tr_examples, nb_tr_steps = 0, 0\n",
        "    tr_preds, tr_labels = [], []\n",
        "    # put model in training mode\n",
        "    model.train()\n",
        "\n",
        "    for idx, batch in enumerate(loader):\n",
        "\n",
        "        # Get the encoded data for this batch and push it to the GPU\n",
        "        ids = batch['ids'].to(device, dtype = torch.long)\n",
        "        mask = batch['mask'].to(device, dtype = torch.long)\n",
        "        targets = batch['targets'].to(device, dtype = torch.long)\n",
        "        pred_mask = batch['pred'].to(device, dtype = torch.long)\n",
        "\n",
        "        # Run the forward pass of the model\n",
        "        logits = model(input_ids=ids, attn_mask=mask, pred_indicator=pred_mask)\n",
        "        loss = loss_function(logits.transpose(2,1), targets)\n",
        "        tr_loss += loss.item()\n",
        "        print(\"Batch loss: \", loss.item()) # can comment out if too verbose.\n",
        "\n",
        "        nb_tr_steps += 1\n",
        "        nb_tr_examples += targets.size(0)\n",
        "\n",
        "        if idx % 100==0:\n",
        "            #torch.cuda.empty_cache() # can help if you run into memory issues\n",
        "            curr_avg_loss = tr_loss/nb_tr_steps\n",
        "            print(f\"Current average loss: {curr_avg_loss}\")\n",
        "\n",
        "        # Compute accuracy for this batch\n",
        "        matching = torch.sum(torch.argmax(logits,dim=2) == targets)\n",
        "        predictions = torch.sum(torch.where(targets==-100,0,1))\n",
        "\n",
        "        # Run the backward pass to update parameters\n",
        "        optimizer.zero_grad()\n",
        "        loss.backward()\n",
        "        optimizer.step()\n",
        "\n",
        "    epoch_loss = tr_loss / nb_tr_steps\n",
        "    print(f\"Training loss epoch: {epoch_loss}\")"
      ]
    },
    {
      "cell_type": "markdown",
      "id": "890d12b0",
      "metadata": {
        "id": "890d12b0"
      },
      "source": [
        "Now let's train the model for one epoch. This will take a while (up to a few hours)."
      ]
    },
    {
      "cell_type": "code",
      "execution_count": null,
      "id": "bef88882",
      "metadata": {
        "id": "bef88882"
      },
      "outputs": [],
      "source": [
        "train()"
      ]
    },
    {
      "cell_type": "markdown",
      "id": "f8507d02",
      "metadata": {
        "id": "f8507d02"
      },
      "source": [
        "In my experiments, I found that two epochs are needed for good performance."
      ]
    },
    {
      "cell_type": "code",
      "execution_count": null,
      "id": "0070c530",
      "metadata": {
        "id": "0070c530"
      },
      "outputs": [],
      "source": [
        "train()"
      ]
    },
    {
      "cell_type": "markdown",
      "id": "4005af14",
      "metadata": {
        "id": "4005af14"
      },
      "source": [
        "I ended up with a training loss of about 0.19 and a training accuracy of 0.94. Specific values may differ.\n",
        "\n",
        "At this point, it's a good idea to save the model (or rather the parameter dictionary) so you can continue evaluating the model without having to retrain."
      ]
    },
    {
      "cell_type": "code",
      "execution_count": null,
      "id": "542403f2",
      "metadata": {
        "id": "542403f2"
      },
      "outputs": [],
      "source": [
        "torch.save(model.state_dict(), \"srl_model_fulltrain_2epoch_finetune_1e-05.pt\")"
      ]
    },
    {
      "cell_type": "markdown",
      "id": "01dc1647",
      "metadata": {
        "id": "01dc1647"
      },
      "source": [
        "## 4. Decoding"
      ]
    },
    {
      "cell_type": "code",
      "execution_count": null,
      "id": "44d7b2cc",
      "metadata": {
        "id": "44d7b2cc"
      },
      "outputs": [],
      "source": [
        "# Optional step: If you stopped working after part 3, first load the trained model\n",
        "\n",
        "model = SrlModel().to('cuda')\n",
        "model.load_state_dict(torch.load(\"srl_model_fulltrain_2epoch_finetune_1e-05.pt\"))\n",
        "model = model.to('cuda')"
      ]
    },
    {
      "cell_type": "markdown",
      "id": "44e07781",
      "metadata": {
        "id": "44e07781"
      },
      "source": [
        "**TODO (this is the fun part)**: Now that we have a trained model, let's try labeling an unseen example sentence. Complete the functions decode_output and label_sentence below. decode_output takes the logits returned by the model, extracts the argmax to obtain the label predictions for each token, and then translate the result into a list of string labels.\n",
        "\n",
        "label_sentence takes a list of input tokens and a predicate index, prepares the model input, call the model and then call decode_output to produce a final result.\n",
        "\n",
        "Note that you have already implemented all components necessary (preparing the input data from the token list and predicate index, decoding the model output). But now you are putting it together in one convenient function."
      ]
    },
    {
      "cell_type": "code",
      "execution_count": null,
      "id": "b72fc567",
      "metadata": {
        "id": "b72fc567"
      },
      "outputs": [],
      "source": [
        "tokens = \"A U. N. team spent an hour inside the hospital , where it found evident signs of shelling and gunfire .\".split()"
      ]
    },
    {
      "cell_type": "code",
      "execution_count": null,
      "id": "9026d718",
      "metadata": {
        "id": "9026d718"
      },
      "outputs": [],
      "source": [
        "def decode_output(logits): # it will be useful to have this in a separate function later on\n",
        "    \"\"\"\n",
        "    Given the model output, return a list of string labels for each token.\n",
        "    \"\"\"\n",
        "    pass\n"
      ]
    },
    {
      "cell_type": "code",
      "execution_count": null,
      "id": "76f21f29",
      "metadata": {
        "id": "76f21f29"
      },
      "outputs": [],
      "source": [
        "def label_sentence(tokens, pred_idx):\n",
        "\n",
        "    # complete this function to prepare token_ids, attention mask, predicate mask, then call the model.\n",
        "    # Decode the output to produce a list of labels.\n",
        "    pass\n"
      ]
    },
    {
      "cell_type": "code",
      "execution_count": null,
      "id": "98431b63",
      "metadata": {
        "id": "98431b63"
      },
      "outputs": [],
      "source": [
        "# Now you should be able to run\n",
        "\n",
        "label_test = label_sentence(tokens, 13) # Predicate is \"found\"\n",
        "zip(tokens, label_test)"
      ]
    },
    {
      "cell_type": "markdown",
      "id": "1d6c710b",
      "metadata": {
        "id": "1d6c710b"
      },
      "source": [
        "The expected output is somethign like this:\n",
        "```   \n",
        " ('A', 'O'),\n",
        " ('U.', 'O'),\n",
        " ('N.', 'O'),\n",
        " ('team', 'O'),\n",
        " ('spent', 'O'),\n",
        " ('an', 'O'),\n",
        " ('hour', 'O'),\n",
        " ('inside', 'O'),\n",
        " ('the', 'B-ARGM-LOC'),\n",
        " ('hospital', 'I-ARGM-LOC'),\n",
        " (',', 'O'),\n",
        " ('where', 'B-ARGM-LOC'),\n",
        " ('it', 'B-ARG0'),\n",
        " ('found', 'B-V'),\n",
        " ('evident', 'B-ARG1'),\n",
        " ('signs', 'I-ARG1'),\n",
        " ('of', 'I-ARG1'),\n",
        " ('shelling', 'I-ARG1'),\n",
        " ('and', 'I-ARG1'),\n",
        " ('gunfire', 'I-ARG1'),\n",
        " ('.', 'O'),\n",
        "```\n"
      ]
    },
    {
      "cell_type": "markdown",
      "id": "b6c0237e",
      "metadata": {
        "id": "b6c0237e"
      },
      "source": [
        "### 5. Evaluation 1: Token-Based Accuracy\n",
        "We want to evaluate the model on the dev or test set."
      ]
    },
    {
      "cell_type": "code",
      "execution_count": null,
      "id": "cc7aa897",
      "metadata": {
        "id": "cc7aa897"
      },
      "outputs": [],
      "source": [
        "dev_data = SrlData(\"propbank_dev.tsv\") # Takes a while because we preprocess all data offline"
      ]
    },
    {
      "cell_type": "code",
      "execution_count": null,
      "id": "dd62569e",
      "metadata": {
        "id": "dd62569e"
      },
      "outputs": [],
      "source": [
        "from torch.utils.data import DataLoader\n",
        "loader = DataLoader(dev_data, batch_size = 1, shuffle = False)"
      ]
    },
    {
      "cell_type": "code",
      "execution_count": null,
      "id": "4bcb3a78",
      "metadata": {
        "id": "4bcb3a78"
      },
      "outputs": [],
      "source": [
        "# Optional: Load the model again if you stopped working prior to this step.\n",
        "# model = SrlModel()\n",
        "# model.load_state_dict(torch.load(\"srl_model_fulltrain_2epoch_finetune_1e-05.pt\"))\n",
        "# model = mode.to('cuda')"
      ]
    },
    {
      "cell_type": "markdown",
      "id": "cc8ababd",
      "metadata": {
        "id": "cc8ababd"
      },
      "source": [
        "**TODO**: Complete the evaluate_token_accuracy function below. The function should iterate through the items in the data loader (see training loop in part 3). Run the model on each sentence/predicate pair and extract the predictions.\n",
        "\n",
        "For each sentence, count the correct predictions and the total predictions. Finally, compute the accuracy as #correct_predictions / #total_predictions\n",
        "\n",
        "Careful: You need to filter out the padded positions ([PAD] target tokens), as well as [CLS] and [SEP]. It's okay to include [B-V] in the count though."
      ]
    },
    {
      "cell_type": "code",
      "execution_count": null,
      "id": "fa091465",
      "metadata": {
        "id": "fa091465"
      },
      "outputs": [],
      "source": [
        "def evaluate_token_accuracy(model, loader):\n",
        "\n",
        "    model.eval() # put model in evaluation mode\n",
        "\n",
        "    # for the accuracy\n",
        "    total_correct = 0 # number of correct token label predictions.\n",
        "    total_predictions = 0 # number of total predictions = number of tokens in the data.\n",
        "\n",
        "    # iterate over the data here.\n",
        "\n",
        "    acc = total_correct / total_predictions\n",
        "    print(f\"Accuracy: {acc}\")\n"
      ]
    },
    {
      "cell_type": "markdown",
      "id": "9fb27239",
      "metadata": {
        "id": "9fb27239"
      },
      "source": [
        "### 6. Span-Based evaluation\n",
        "\n",
        "While the accuracy score in part 5 is encouraging, an accuracy-based evaluation is problematic for two reasons. First, most of the target labels are actually O. Second, it only tells us that per-token prediction works, but does not directly evaluate the SRL performance.\n",
        "\n",
        "Instead, SRL systems are typically evaluated on micro-averaged precision, recall, and F1-score for predicting labeled spans.\n",
        "\n",
        "More specifically, for each sentence/predicate input, we run the model, decode the output, and extract a set of labeled spans (from the output and the target labels). These spans are (i,j,label) tuples.  \n",
        "\n",
        "We then compute the true_positives, false_positives, and false_negatives based on these spans.\n",
        "\n",
        "In the end, we can compute\n",
        "\n",
        "* Precision:  true_positive / (true_positives + false_positives)  , that is the number of correct spans out of all predicted spans.\n",
        "\n",
        "* Recall: true_positives / (true_positives + false_negatives) , that is the number of correct spans out of all target spans.\n",
        "\n",
        "* F1-score:   (2 * precision * recall) / (precision + recall)\n",
        "\n",
        "\n",
        "For example, consider\n",
        "\n",
        "| |[CLS]|The|judge|scheduled|to|preside|over|his|trial|was|removed|from|the|case|today|.|             \n",
        "|--||---|-----|---------|--|-------|----|---|-----|---|-------|----|---|----|-----|-|             \n",
        "||0|1|2|3|4|5|6|7|8|9|1O|11|12|13|14|15|\n",
        "|target|[CLS]|B-ARG1|I-ARG1|B-V|B-ARG2|I-ARG2|I-ARG2|I-ARG2|I-ARG2|O|O|O|O|O|O|O|\n",
        "|prediction|[CLS]|B-ARG1|I-ARG1|B-V|I-ARG2|I-ARG2|O|O|O|O|O|O|O|O|B-ARGM-TMP|O|\n",
        "\n",
        "The target spans are (1,2,\"ARG1\"), and (4,8,\"ARG2\").\n",
        "\n",
        "The predicted spans would be (1,2,\"ARG1\"), (14,14,\"ARGM-TMP\"). Note that in the prediction, there is no proper ARG2 span because we are missing the B-ARG2 token, so this span should not be created.\n",
        "\n",
        "So for this sentence we woudl get: true_positives: 1 false_positives: 1 false_negatives: 1\n",
        "\n",
        "*TODO*: Complete the function evaluate_spans that performs the span-based evaluation on the given model and data loader. You can use the provided extract_spans function, which returns the spans as a dictionary. For example\n",
        "{(1,2): \"ARG1\", (4,8):\"ARG2\"}"
      ]
    },
    {
      "cell_type": "code",
      "execution_count": null,
      "id": "379cfe6a",
      "metadata": {
        "id": "379cfe6a"
      },
      "outputs": [],
      "source": [
        "def extract_spans(labels):\n",
        "    spans = {} # map (start,end) ids to label\n",
        "    current_span_start = 0\n",
        "    current_span_type = \"\"\n",
        "    inside = False\n",
        "    for i, label in enumerate(labels):\n",
        "        if label.startswith(\"B\"):\n",
        "            if inside:\n",
        "                if current_span_type != \"V\":\n",
        "                    spans[(current_span_start,i)] = current_span_type\n",
        "            current_span_start = i\n",
        "            current_span_type = label[2:]\n",
        "            inside = True\n",
        "        elif inside and label.startswith(\"O\"):\n",
        "            if current_span_type != \"V\":\n",
        "                spans[(current_span_start,i)] = current_span_type\n",
        "            inside = False\n",
        "        elif inside and label.startswith(\"I\") and label[2:] != current_span_type:\n",
        "            if current_span_type != \"V\":\n",
        "                spans[(current_span_start,i)] = current_span_type\n",
        "            inside = False\n",
        "    return spans\n"
      ]
    },
    {
      "cell_type": "code",
      "execution_count": null,
      "id": "1a5486ca",
      "metadata": {
        "id": "1a5486ca"
      },
      "outputs": [],
      "source": [
        "def evaluate_spans(model, loader):\n",
        "\n",
        "\n",
        "    total_tp = 0\n",
        "    total_fp = 0\n",
        "    total_fn = 0\n",
        "\n",
        "    for idx, batch in enumerate(loader):\n",
        "\n",
        "        pass # compelte this\n",
        "\n",
        "\n",
        "    total_p = total_tp / (total_tp + total_fp)\n",
        "    total_r = total_tp / (total_tp + total_fn)\n",
        "    total_f = (2 * total_p *total_r) / (total_p + total_r)\n",
        "\n",
        "    print(f\"Overall P: {total_p}  Overall R: {total_r}  Overall F1: {total_f}\")\n",
        "\n",
        "evaluate(model, loader)"
      ]
    },
    {
      "cell_type": "markdown",
      "id": "c0e35d04",
      "metadata": {
        "id": "c0e35d04"
      },
      "source": [
        "In my evaluation, I got an F score of 0.82  (which slightly below the state-of-the art in 2018)"
      ]
    },
    {
      "cell_type": "markdown",
      "id": "bd94c3a2",
      "metadata": {
        "id": "bd94c3a2"
      },
      "source": [
        "### OPTIONAL:\n",
        "\n",
        "Repeat the span-based evaluation, but print out precision/recall/f1-score for each role separately."
      ]
    }
  ],
  "metadata": {
    "kernelspec": {
      "display_name": "Python 3 (ipykernel)",
      "language": "python",
      "name": "python3"
    },
    "language_info": {
      "codemirror_mode": {
        "name": "ipython",
        "version": 3
      },
      "file_extension": ".py",
      "mimetype": "text/x-python",
      "name": "python",
      "nbconvert_exporter": "python",
      "pygments_lexer": "ipython3",
      "version": "3.9.12"
    },
    "colab": {
      "provenance": []
    },
    "widgets": {
      "application/vnd.jupyter.widget-state+json": {
        "0a37027b38254db2bae0e7f741136045": {
          "model_module": "@jupyter-widgets/controls",
          "model_name": "HBoxModel",
          "model_module_version": "1.5.0",
          "state": {
            "_dom_classes": [],
            "_model_module": "@jupyter-widgets/controls",
            "_model_module_version": "1.5.0",
            "_model_name": "HBoxModel",
            "_view_count": null,
            "_view_module": "@jupyter-widgets/controls",
            "_view_module_version": "1.5.0",
            "_view_name": "HBoxView",
            "box_style": "",
            "children": [
              "IPY_MODEL_79ee1c6d8151473d8ed27e06ad55b2eb",
              "IPY_MODEL_735d8f8b0daa406a98ac74bca722ef38",
              "IPY_MODEL_690ca6c12f0549c596efc06151ee8eb9"
            ],
            "layout": "IPY_MODEL_7851ae5857c04417addf06eb3ec56476"
          }
        },
        "79ee1c6d8151473d8ed27e06ad55b2eb": {
          "model_module": "@jupyter-widgets/controls",
          "model_name": "HTMLModel",
          "model_module_version": "1.5.0",
          "state": {
            "_dom_classes": [],
            "_model_module": "@jupyter-widgets/controls",
            "_model_module_version": "1.5.0",
            "_model_name": "HTMLModel",
            "_view_count": null,
            "_view_module": "@jupyter-widgets/controls",
            "_view_module_version": "1.5.0",
            "_view_name": "HTMLView",
            "description": "",
            "description_tooltip": null,
            "layout": "IPY_MODEL_0fc0730a8c434740901e91d1f7c164a5",
            "placeholder": "​",
            "style": "IPY_MODEL_ba6bcde92ec64b879c36842c1521f70b",
            "value": "tokenizer_config.json: 100%"
          }
        },
        "735d8f8b0daa406a98ac74bca722ef38": {
          "model_module": "@jupyter-widgets/controls",
          "model_name": "FloatProgressModel",
          "model_module_version": "1.5.0",
          "state": {
            "_dom_classes": [],
            "_model_module": "@jupyter-widgets/controls",
            "_model_module_version": "1.5.0",
            "_model_name": "FloatProgressModel",
            "_view_count": null,
            "_view_module": "@jupyter-widgets/controls",
            "_view_module_version": "1.5.0",
            "_view_name": "ProgressView",
            "bar_style": "success",
            "description": "",
            "description_tooltip": null,
            "layout": "IPY_MODEL_afa43e4e0f564d498335a59de3075a84",
            "max": 48,
            "min": 0,
            "orientation": "horizontal",
            "style": "IPY_MODEL_0db69615302244fa963390b675552102",
            "value": 48
          }
        },
        "690ca6c12f0549c596efc06151ee8eb9": {
          "model_module": "@jupyter-widgets/controls",
          "model_name": "HTMLModel",
          "model_module_version": "1.5.0",
          "state": {
            "_dom_classes": [],
            "_model_module": "@jupyter-widgets/controls",
            "_model_module_version": "1.5.0",
            "_model_name": "HTMLModel",
            "_view_count": null,
            "_view_module": "@jupyter-widgets/controls",
            "_view_module_version": "1.5.0",
            "_view_name": "HTMLView",
            "description": "",
            "description_tooltip": null,
            "layout": "IPY_MODEL_c9cf5cdf34f44970b22d2782279444ea",
            "placeholder": "​",
            "style": "IPY_MODEL_436c4bf4b8c74a8685e766d37a7b5901",
            "value": " 48.0/48.0 [00:00&lt;00:00, 786B/s]"
          }
        },
        "7851ae5857c04417addf06eb3ec56476": {
          "model_module": "@jupyter-widgets/base",
          "model_name": "LayoutModel",
          "model_module_version": "1.2.0",
          "state": {
            "_model_module": "@jupyter-widgets/base",
            "_model_module_version": "1.2.0",
            "_model_name": "LayoutModel",
            "_view_count": null,
            "_view_module": "@jupyter-widgets/base",
            "_view_module_version": "1.2.0",
            "_view_name": "LayoutView",
            "align_content": null,
            "align_items": null,
            "align_self": null,
            "border": null,
            "bottom": null,
            "display": null,
            "flex": null,
            "flex_flow": null,
            "grid_area": null,
            "grid_auto_columns": null,
            "grid_auto_flow": null,
            "grid_auto_rows": null,
            "grid_column": null,
            "grid_gap": null,
            "grid_row": null,
            "grid_template_areas": null,
            "grid_template_columns": null,
            "grid_template_rows": null,
            "height": null,
            "justify_content": null,
            "justify_items": null,
            "left": null,
            "margin": null,
            "max_height": null,
            "max_width": null,
            "min_height": null,
            "min_width": null,
            "object_fit": null,
            "object_position": null,
            "order": null,
            "overflow": null,
            "overflow_x": null,
            "overflow_y": null,
            "padding": null,
            "right": null,
            "top": null,
            "visibility": null,
            "width": null
          }
        },
        "0fc0730a8c434740901e91d1f7c164a5": {
          "model_module": "@jupyter-widgets/base",
          "model_name": "LayoutModel",
          "model_module_version": "1.2.0",
          "state": {
            "_model_module": "@jupyter-widgets/base",
            "_model_module_version": "1.2.0",
            "_model_name": "LayoutModel",
            "_view_count": null,
            "_view_module": "@jupyter-widgets/base",
            "_view_module_version": "1.2.0",
            "_view_name": "LayoutView",
            "align_content": null,
            "align_items": null,
            "align_self": null,
            "border": null,
            "bottom": null,
            "display": null,
            "flex": null,
            "flex_flow": null,
            "grid_area": null,
            "grid_auto_columns": null,
            "grid_auto_flow": null,
            "grid_auto_rows": null,
            "grid_column": null,
            "grid_gap": null,
            "grid_row": null,
            "grid_template_areas": null,
            "grid_template_columns": null,
            "grid_template_rows": null,
            "height": null,
            "justify_content": null,
            "justify_items": null,
            "left": null,
            "margin": null,
            "max_height": null,
            "max_width": null,
            "min_height": null,
            "min_width": null,
            "object_fit": null,
            "object_position": null,
            "order": null,
            "overflow": null,
            "overflow_x": null,
            "overflow_y": null,
            "padding": null,
            "right": null,
            "top": null,
            "visibility": null,
            "width": null
          }
        },
        "ba6bcde92ec64b879c36842c1521f70b": {
          "model_module": "@jupyter-widgets/controls",
          "model_name": "DescriptionStyleModel",
          "model_module_version": "1.5.0",
          "state": {
            "_model_module": "@jupyter-widgets/controls",
            "_model_module_version": "1.5.0",
            "_model_name": "DescriptionStyleModel",
            "_view_count": null,
            "_view_module": "@jupyter-widgets/base",
            "_view_module_version": "1.2.0",
            "_view_name": "StyleView",
            "description_width": ""
          }
        },
        "afa43e4e0f564d498335a59de3075a84": {
          "model_module": "@jupyter-widgets/base",
          "model_name": "LayoutModel",
          "model_module_version": "1.2.0",
          "state": {
            "_model_module": "@jupyter-widgets/base",
            "_model_module_version": "1.2.0",
            "_model_name": "LayoutModel",
            "_view_count": null,
            "_view_module": "@jupyter-widgets/base",
            "_view_module_version": "1.2.0",
            "_view_name": "LayoutView",
            "align_content": null,
            "align_items": null,
            "align_self": null,
            "border": null,
            "bottom": null,
            "display": null,
            "flex": null,
            "flex_flow": null,
            "grid_area": null,
            "grid_auto_columns": null,
            "grid_auto_flow": null,
            "grid_auto_rows": null,
            "grid_column": null,
            "grid_gap": null,
            "grid_row": null,
            "grid_template_areas": null,
            "grid_template_columns": null,
            "grid_template_rows": null,
            "height": null,
            "justify_content": null,
            "justify_items": null,
            "left": null,
            "margin": null,
            "max_height": null,
            "max_width": null,
            "min_height": null,
            "min_width": null,
            "object_fit": null,
            "object_position": null,
            "order": null,
            "overflow": null,
            "overflow_x": null,
            "overflow_y": null,
            "padding": null,
            "right": null,
            "top": null,
            "visibility": null,
            "width": null
          }
        },
        "0db69615302244fa963390b675552102": {
          "model_module": "@jupyter-widgets/controls",
          "model_name": "ProgressStyleModel",
          "model_module_version": "1.5.0",
          "state": {
            "_model_module": "@jupyter-widgets/controls",
            "_model_module_version": "1.5.0",
            "_model_name": "ProgressStyleModel",
            "_view_count": null,
            "_view_module": "@jupyter-widgets/base",
            "_view_module_version": "1.2.0",
            "_view_name": "StyleView",
            "bar_color": null,
            "description_width": ""
          }
        },
        "c9cf5cdf34f44970b22d2782279444ea": {
          "model_module": "@jupyter-widgets/base",
          "model_name": "LayoutModel",
          "model_module_version": "1.2.0",
          "state": {
            "_model_module": "@jupyter-widgets/base",
            "_model_module_version": "1.2.0",
            "_model_name": "LayoutModel",
            "_view_count": null,
            "_view_module": "@jupyter-widgets/base",
            "_view_module_version": "1.2.0",
            "_view_name": "LayoutView",
            "align_content": null,
            "align_items": null,
            "align_self": null,
            "border": null,
            "bottom": null,
            "display": null,
            "flex": null,
            "flex_flow": null,
            "grid_area": null,
            "grid_auto_columns": null,
            "grid_auto_flow": null,
            "grid_auto_rows": null,
            "grid_column": null,
            "grid_gap": null,
            "grid_row": null,
            "grid_template_areas": null,
            "grid_template_columns": null,
            "grid_template_rows": null,
            "height": null,
            "justify_content": null,
            "justify_items": null,
            "left": null,
            "margin": null,
            "max_height": null,
            "max_width": null,
            "min_height": null,
            "min_width": null,
            "object_fit": null,
            "object_position": null,
            "order": null,
            "overflow": null,
            "overflow_x": null,
            "overflow_y": null,
            "padding": null,
            "right": null,
            "top": null,
            "visibility": null,
            "width": null
          }
        },
        "436c4bf4b8c74a8685e766d37a7b5901": {
          "model_module": "@jupyter-widgets/controls",
          "model_name": "DescriptionStyleModel",
          "model_module_version": "1.5.0",
          "state": {
            "_model_module": "@jupyter-widgets/controls",
            "_model_module_version": "1.5.0",
            "_model_name": "DescriptionStyleModel",
            "_view_count": null,
            "_view_module": "@jupyter-widgets/base",
            "_view_module_version": "1.2.0",
            "_view_name": "StyleView",
            "description_width": ""
          }
        },
        "912f05a51b6a4019a421234af8a65b0d": {
          "model_module": "@jupyter-widgets/controls",
          "model_name": "HBoxModel",
          "model_module_version": "1.5.0",
          "state": {
            "_dom_classes": [],
            "_model_module": "@jupyter-widgets/controls",
            "_model_module_version": "1.5.0",
            "_model_name": "HBoxModel",
            "_view_count": null,
            "_view_module": "@jupyter-widgets/controls",
            "_view_module_version": "1.5.0",
            "_view_name": "HBoxView",
            "box_style": "",
            "children": [
              "IPY_MODEL_d9e6342eb947461cb6f4112d8025a4fa",
              "IPY_MODEL_29c7519d001447608b1bc9324cb7c603",
              "IPY_MODEL_68d34221fc5742c097ae34be7bd2b95a"
            ],
            "layout": "IPY_MODEL_529f65658d0944ec9eec96d90921765c"
          }
        },
        "d9e6342eb947461cb6f4112d8025a4fa": {
          "model_module": "@jupyter-widgets/controls",
          "model_name": "HTMLModel",
          "model_module_version": "1.5.0",
          "state": {
            "_dom_classes": [],
            "_model_module": "@jupyter-widgets/controls",
            "_model_module_version": "1.5.0",
            "_model_name": "HTMLModel",
            "_view_count": null,
            "_view_module": "@jupyter-widgets/controls",
            "_view_module_version": "1.5.0",
            "_view_name": "HTMLView",
            "description": "",
            "description_tooltip": null,
            "layout": "IPY_MODEL_f2259a2b70544817a551ce63210b162b",
            "placeholder": "​",
            "style": "IPY_MODEL_db627eb4a3764c15afdae88a125f7f5c",
            "value": "vocab.txt: 100%"
          }
        },
        "29c7519d001447608b1bc9324cb7c603": {
          "model_module": "@jupyter-widgets/controls",
          "model_name": "FloatProgressModel",
          "model_module_version": "1.5.0",
          "state": {
            "_dom_classes": [],
            "_model_module": "@jupyter-widgets/controls",
            "_model_module_version": "1.5.0",
            "_model_name": "FloatProgressModel",
            "_view_count": null,
            "_view_module": "@jupyter-widgets/controls",
            "_view_module_version": "1.5.0",
            "_view_name": "ProgressView",
            "bar_style": "success",
            "description": "",
            "description_tooltip": null,
            "layout": "IPY_MODEL_3fed0b023dcb4abb9544fb92c3159f3a",
            "max": 231508,
            "min": 0,
            "orientation": "horizontal",
            "style": "IPY_MODEL_6f1d43d06bea4b7ab6b199af997a7caa",
            "value": 231508
          }
        },
        "68d34221fc5742c097ae34be7bd2b95a": {
          "model_module": "@jupyter-widgets/controls",
          "model_name": "HTMLModel",
          "model_module_version": "1.5.0",
          "state": {
            "_dom_classes": [],
            "_model_module": "@jupyter-widgets/controls",
            "_model_module_version": "1.5.0",
            "_model_name": "HTMLModel",
            "_view_count": null,
            "_view_module": "@jupyter-widgets/controls",
            "_view_module_version": "1.5.0",
            "_view_name": "HTMLView",
            "description": "",
            "description_tooltip": null,
            "layout": "IPY_MODEL_da619949561c41eb825b691fe5a25c1b",
            "placeholder": "​",
            "style": "IPY_MODEL_a284a4e6a0924cd2a23f30141a4b4642",
            "value": " 232k/232k [00:00&lt;00:00, 1.63MB/s]"
          }
        },
        "529f65658d0944ec9eec96d90921765c": {
          "model_module": "@jupyter-widgets/base",
          "model_name": "LayoutModel",
          "model_module_version": "1.2.0",
          "state": {
            "_model_module": "@jupyter-widgets/base",
            "_model_module_version": "1.2.0",
            "_model_name": "LayoutModel",
            "_view_count": null,
            "_view_module": "@jupyter-widgets/base",
            "_view_module_version": "1.2.0",
            "_view_name": "LayoutView",
            "align_content": null,
            "align_items": null,
            "align_self": null,
            "border": null,
            "bottom": null,
            "display": null,
            "flex": null,
            "flex_flow": null,
            "grid_area": null,
            "grid_auto_columns": null,
            "grid_auto_flow": null,
            "grid_auto_rows": null,
            "grid_column": null,
            "grid_gap": null,
            "grid_row": null,
            "grid_template_areas": null,
            "grid_template_columns": null,
            "grid_template_rows": null,
            "height": null,
            "justify_content": null,
            "justify_items": null,
            "left": null,
            "margin": null,
            "max_height": null,
            "max_width": null,
            "min_height": null,
            "min_width": null,
            "object_fit": null,
            "object_position": null,
            "order": null,
            "overflow": null,
            "overflow_x": null,
            "overflow_y": null,
            "padding": null,
            "right": null,
            "top": null,
            "visibility": null,
            "width": null
          }
        },
        "f2259a2b70544817a551ce63210b162b": {
          "model_module": "@jupyter-widgets/base",
          "model_name": "LayoutModel",
          "model_module_version": "1.2.0",
          "state": {
            "_model_module": "@jupyter-widgets/base",
            "_model_module_version": "1.2.0",
            "_model_name": "LayoutModel",
            "_view_count": null,
            "_view_module": "@jupyter-widgets/base",
            "_view_module_version": "1.2.0",
            "_view_name": "LayoutView",
            "align_content": null,
            "align_items": null,
            "align_self": null,
            "border": null,
            "bottom": null,
            "display": null,
            "flex": null,
            "flex_flow": null,
            "grid_area": null,
            "grid_auto_columns": null,
            "grid_auto_flow": null,
            "grid_auto_rows": null,
            "grid_column": null,
            "grid_gap": null,
            "grid_row": null,
            "grid_template_areas": null,
            "grid_template_columns": null,
            "grid_template_rows": null,
            "height": null,
            "justify_content": null,
            "justify_items": null,
            "left": null,
            "margin": null,
            "max_height": null,
            "max_width": null,
            "min_height": null,
            "min_width": null,
            "object_fit": null,
            "object_position": null,
            "order": null,
            "overflow": null,
            "overflow_x": null,
            "overflow_y": null,
            "padding": null,
            "right": null,
            "top": null,
            "visibility": null,
            "width": null
          }
        },
        "db627eb4a3764c15afdae88a125f7f5c": {
          "model_module": "@jupyter-widgets/controls",
          "model_name": "DescriptionStyleModel",
          "model_module_version": "1.5.0",
          "state": {
            "_model_module": "@jupyter-widgets/controls",
            "_model_module_version": "1.5.0",
            "_model_name": "DescriptionStyleModel",
            "_view_count": null,
            "_view_module": "@jupyter-widgets/base",
            "_view_module_version": "1.2.0",
            "_view_name": "StyleView",
            "description_width": ""
          }
        },
        "3fed0b023dcb4abb9544fb92c3159f3a": {
          "model_module": "@jupyter-widgets/base",
          "model_name": "LayoutModel",
          "model_module_version": "1.2.0",
          "state": {
            "_model_module": "@jupyter-widgets/base",
            "_model_module_version": "1.2.0",
            "_model_name": "LayoutModel",
            "_view_count": null,
            "_view_module": "@jupyter-widgets/base",
            "_view_module_version": "1.2.0",
            "_view_name": "LayoutView",
            "align_content": null,
            "align_items": null,
            "align_self": null,
            "border": null,
            "bottom": null,
            "display": null,
            "flex": null,
            "flex_flow": null,
            "grid_area": null,
            "grid_auto_columns": null,
            "grid_auto_flow": null,
            "grid_auto_rows": null,
            "grid_column": null,
            "grid_gap": null,
            "grid_row": null,
            "grid_template_areas": null,
            "grid_template_columns": null,
            "grid_template_rows": null,
            "height": null,
            "justify_content": null,
            "justify_items": null,
            "left": null,
            "margin": null,
            "max_height": null,
            "max_width": null,
            "min_height": null,
            "min_width": null,
            "object_fit": null,
            "object_position": null,
            "order": null,
            "overflow": null,
            "overflow_x": null,
            "overflow_y": null,
            "padding": null,
            "right": null,
            "top": null,
            "visibility": null,
            "width": null
          }
        },
        "6f1d43d06bea4b7ab6b199af997a7caa": {
          "model_module": "@jupyter-widgets/controls",
          "model_name": "ProgressStyleModel",
          "model_module_version": "1.5.0",
          "state": {
            "_model_module": "@jupyter-widgets/controls",
            "_model_module_version": "1.5.0",
            "_model_name": "ProgressStyleModel",
            "_view_count": null,
            "_view_module": "@jupyter-widgets/base",
            "_view_module_version": "1.2.0",
            "_view_name": "StyleView",
            "bar_color": null,
            "description_width": ""
          }
        },
        "da619949561c41eb825b691fe5a25c1b": {
          "model_module": "@jupyter-widgets/base",
          "model_name": "LayoutModel",
          "model_module_version": "1.2.0",
          "state": {
            "_model_module": "@jupyter-widgets/base",
            "_model_module_version": "1.2.0",
            "_model_name": "LayoutModel",
            "_view_count": null,
            "_view_module": "@jupyter-widgets/base",
            "_view_module_version": "1.2.0",
            "_view_name": "LayoutView",
            "align_content": null,
            "align_items": null,
            "align_self": null,
            "border": null,
            "bottom": null,
            "display": null,
            "flex": null,
            "flex_flow": null,
            "grid_area": null,
            "grid_auto_columns": null,
            "grid_auto_flow": null,
            "grid_auto_rows": null,
            "grid_column": null,
            "grid_gap": null,
            "grid_row": null,
            "grid_template_areas": null,
            "grid_template_columns": null,
            "grid_template_rows": null,
            "height": null,
            "justify_content": null,
            "justify_items": null,
            "left": null,
            "margin": null,
            "max_height": null,
            "max_width": null,
            "min_height": null,
            "min_width": null,
            "object_fit": null,
            "object_position": null,
            "order": null,
            "overflow": null,
            "overflow_x": null,
            "overflow_y": null,
            "padding": null,
            "right": null,
            "top": null,
            "visibility": null,
            "width": null
          }
        },
        "a284a4e6a0924cd2a23f30141a4b4642": {
          "model_module": "@jupyter-widgets/controls",
          "model_name": "DescriptionStyleModel",
          "model_module_version": "1.5.0",
          "state": {
            "_model_module": "@jupyter-widgets/controls",
            "_model_module_version": "1.5.0",
            "_model_name": "DescriptionStyleModel",
            "_view_count": null,
            "_view_module": "@jupyter-widgets/base",
            "_view_module_version": "1.2.0",
            "_view_name": "StyleView",
            "description_width": ""
          }
        },
        "cddf67bbd94442999c40cd3118858761": {
          "model_module": "@jupyter-widgets/controls",
          "model_name": "HBoxModel",
          "model_module_version": "1.5.0",
          "state": {
            "_dom_classes": [],
            "_model_module": "@jupyter-widgets/controls",
            "_model_module_version": "1.5.0",
            "_model_name": "HBoxModel",
            "_view_count": null,
            "_view_module": "@jupyter-widgets/controls",
            "_view_module_version": "1.5.0",
            "_view_name": "HBoxView",
            "box_style": "",
            "children": [
              "IPY_MODEL_f6885cfb77eb41feb0d50479b0b3e974",
              "IPY_MODEL_21d4020d98654e48af1732af78583f58",
              "IPY_MODEL_ec2d25ee113f46789bb51fb8f6873731"
            ],
            "layout": "IPY_MODEL_33bd609a8b4946fc8fea262de7776aef"
          }
        },
        "f6885cfb77eb41feb0d50479b0b3e974": {
          "model_module": "@jupyter-widgets/controls",
          "model_name": "HTMLModel",
          "model_module_version": "1.5.0",
          "state": {
            "_dom_classes": [],
            "_model_module": "@jupyter-widgets/controls",
            "_model_module_version": "1.5.0",
            "_model_name": "HTMLModel",
            "_view_count": null,
            "_view_module": "@jupyter-widgets/controls",
            "_view_module_version": "1.5.0",
            "_view_name": "HTMLView",
            "description": "",
            "description_tooltip": null,
            "layout": "IPY_MODEL_c7ebfd4bbbe640c4aee568a1f65ad528",
            "placeholder": "​",
            "style": "IPY_MODEL_0c79e006911948d89eb6de247fa94557",
            "value": "tokenizer.json: 100%"
          }
        },
        "21d4020d98654e48af1732af78583f58": {
          "model_module": "@jupyter-widgets/controls",
          "model_name": "FloatProgressModel",
          "model_module_version": "1.5.0",
          "state": {
            "_dom_classes": [],
            "_model_module": "@jupyter-widgets/controls",
            "_model_module_version": "1.5.0",
            "_model_name": "FloatProgressModel",
            "_view_count": null,
            "_view_module": "@jupyter-widgets/controls",
            "_view_module_version": "1.5.0",
            "_view_name": "ProgressView",
            "bar_style": "success",
            "description": "",
            "description_tooltip": null,
            "layout": "IPY_MODEL_fbeba2bb788c4eaf86dc72aafaceb3a1",
            "max": 466062,
            "min": 0,
            "orientation": "horizontal",
            "style": "IPY_MODEL_971fb920153f4c5986b426c96b265e87",
            "value": 466062
          }
        },
        "ec2d25ee113f46789bb51fb8f6873731": {
          "model_module": "@jupyter-widgets/controls",
          "model_name": "HTMLModel",
          "model_module_version": "1.5.0",
          "state": {
            "_dom_classes": [],
            "_model_module": "@jupyter-widgets/controls",
            "_model_module_version": "1.5.0",
            "_model_name": "HTMLModel",
            "_view_count": null,
            "_view_module": "@jupyter-widgets/controls",
            "_view_module_version": "1.5.0",
            "_view_name": "HTMLView",
            "description": "",
            "description_tooltip": null,
            "layout": "IPY_MODEL_27e81411939f4c2db62569739d4f2b6c",
            "placeholder": "​",
            "style": "IPY_MODEL_27e9d5522b50422cad82227292972ba3",
            "value": " 466k/466k [00:00&lt;00:00, 1.89MB/s]"
          }
        },
        "33bd609a8b4946fc8fea262de7776aef": {
          "model_module": "@jupyter-widgets/base",
          "model_name": "LayoutModel",
          "model_module_version": "1.2.0",
          "state": {
            "_model_module": "@jupyter-widgets/base",
            "_model_module_version": "1.2.0",
            "_model_name": "LayoutModel",
            "_view_count": null,
            "_view_module": "@jupyter-widgets/base",
            "_view_module_version": "1.2.0",
            "_view_name": "LayoutView",
            "align_content": null,
            "align_items": null,
            "align_self": null,
            "border": null,
            "bottom": null,
            "display": null,
            "flex": null,
            "flex_flow": null,
            "grid_area": null,
            "grid_auto_columns": null,
            "grid_auto_flow": null,
            "grid_auto_rows": null,
            "grid_column": null,
            "grid_gap": null,
            "grid_row": null,
            "grid_template_areas": null,
            "grid_template_columns": null,
            "grid_template_rows": null,
            "height": null,
            "justify_content": null,
            "justify_items": null,
            "left": null,
            "margin": null,
            "max_height": null,
            "max_width": null,
            "min_height": null,
            "min_width": null,
            "object_fit": null,
            "object_position": null,
            "order": null,
            "overflow": null,
            "overflow_x": null,
            "overflow_y": null,
            "padding": null,
            "right": null,
            "top": null,
            "visibility": null,
            "width": null
          }
        },
        "c7ebfd4bbbe640c4aee568a1f65ad528": {
          "model_module": "@jupyter-widgets/base",
          "model_name": "LayoutModel",
          "model_module_version": "1.2.0",
          "state": {
            "_model_module": "@jupyter-widgets/base",
            "_model_module_version": "1.2.0",
            "_model_name": "LayoutModel",
            "_view_count": null,
            "_view_module": "@jupyter-widgets/base",
            "_view_module_version": "1.2.0",
            "_view_name": "LayoutView",
            "align_content": null,
            "align_items": null,
            "align_self": null,
            "border": null,
            "bottom": null,
            "display": null,
            "flex": null,
            "flex_flow": null,
            "grid_area": null,
            "grid_auto_columns": null,
            "grid_auto_flow": null,
            "grid_auto_rows": null,
            "grid_column": null,
            "grid_gap": null,
            "grid_row": null,
            "grid_template_areas": null,
            "grid_template_columns": null,
            "grid_template_rows": null,
            "height": null,
            "justify_content": null,
            "justify_items": null,
            "left": null,
            "margin": null,
            "max_height": null,
            "max_width": null,
            "min_height": null,
            "min_width": null,
            "object_fit": null,
            "object_position": null,
            "order": null,
            "overflow": null,
            "overflow_x": null,
            "overflow_y": null,
            "padding": null,
            "right": null,
            "top": null,
            "visibility": null,
            "width": null
          }
        },
        "0c79e006911948d89eb6de247fa94557": {
          "model_module": "@jupyter-widgets/controls",
          "model_name": "DescriptionStyleModel",
          "model_module_version": "1.5.0",
          "state": {
            "_model_module": "@jupyter-widgets/controls",
            "_model_module_version": "1.5.0",
            "_model_name": "DescriptionStyleModel",
            "_view_count": null,
            "_view_module": "@jupyter-widgets/base",
            "_view_module_version": "1.2.0",
            "_view_name": "StyleView",
            "description_width": ""
          }
        },
        "fbeba2bb788c4eaf86dc72aafaceb3a1": {
          "model_module": "@jupyter-widgets/base",
          "model_name": "LayoutModel",
          "model_module_version": "1.2.0",
          "state": {
            "_model_module": "@jupyter-widgets/base",
            "_model_module_version": "1.2.0",
            "_model_name": "LayoutModel",
            "_view_count": null,
            "_view_module": "@jupyter-widgets/base",
            "_view_module_version": "1.2.0",
            "_view_name": "LayoutView",
            "align_content": null,
            "align_items": null,
            "align_self": null,
            "border": null,
            "bottom": null,
            "display": null,
            "flex": null,
            "flex_flow": null,
            "grid_area": null,
            "grid_auto_columns": null,
            "grid_auto_flow": null,
            "grid_auto_rows": null,
            "grid_column": null,
            "grid_gap": null,
            "grid_row": null,
            "grid_template_areas": null,
            "grid_template_columns": null,
            "grid_template_rows": null,
            "height": null,
            "justify_content": null,
            "justify_items": null,
            "left": null,
            "margin": null,
            "max_height": null,
            "max_width": null,
            "min_height": null,
            "min_width": null,
            "object_fit": null,
            "object_position": null,
            "order": null,
            "overflow": null,
            "overflow_x": null,
            "overflow_y": null,
            "padding": null,
            "right": null,
            "top": null,
            "visibility": null,
            "width": null
          }
        },
        "971fb920153f4c5986b426c96b265e87": {
          "model_module": "@jupyter-widgets/controls",
          "model_name": "ProgressStyleModel",
          "model_module_version": "1.5.0",
          "state": {
            "_model_module": "@jupyter-widgets/controls",
            "_model_module_version": "1.5.0",
            "_model_name": "ProgressStyleModel",
            "_view_count": null,
            "_view_module": "@jupyter-widgets/base",
            "_view_module_version": "1.2.0",
            "_view_name": "StyleView",
            "bar_color": null,
            "description_width": ""
          }
        },
        "27e81411939f4c2db62569739d4f2b6c": {
          "model_module": "@jupyter-widgets/base",
          "model_name": "LayoutModel",
          "model_module_version": "1.2.0",
          "state": {
            "_model_module": "@jupyter-widgets/base",
            "_model_module_version": "1.2.0",
            "_model_name": "LayoutModel",
            "_view_count": null,
            "_view_module": "@jupyter-widgets/base",
            "_view_module_version": "1.2.0",
            "_view_name": "LayoutView",
            "align_content": null,
            "align_items": null,
            "align_self": null,
            "border": null,
            "bottom": null,
            "display": null,
            "flex": null,
            "flex_flow": null,
            "grid_area": null,
            "grid_auto_columns": null,
            "grid_auto_flow": null,
            "grid_auto_rows": null,
            "grid_column": null,
            "grid_gap": null,
            "grid_row": null,
            "grid_template_areas": null,
            "grid_template_columns": null,
            "grid_template_rows": null,
            "height": null,
            "justify_content": null,
            "justify_items": null,
            "left": null,
            "margin": null,
            "max_height": null,
            "max_width": null,
            "min_height": null,
            "min_width": null,
            "object_fit": null,
            "object_position": null,
            "order": null,
            "overflow": null,
            "overflow_x": null,
            "overflow_y": null,
            "padding": null,
            "right": null,
            "top": null,
            "visibility": null,
            "width": null
          }
        },
        "27e9d5522b50422cad82227292972ba3": {
          "model_module": "@jupyter-widgets/controls",
          "model_name": "DescriptionStyleModel",
          "model_module_version": "1.5.0",
          "state": {
            "_model_module": "@jupyter-widgets/controls",
            "_model_module_version": "1.5.0",
            "_model_name": "DescriptionStyleModel",
            "_view_count": null,
            "_view_module": "@jupyter-widgets/base",
            "_view_module_version": "1.2.0",
            "_view_name": "StyleView",
            "description_width": ""
          }
        },
        "384b17eb1aa94d00aedb30f2141961bd": {
          "model_module": "@jupyter-widgets/controls",
          "model_name": "HBoxModel",
          "model_module_version": "1.5.0",
          "state": {
            "_dom_classes": [],
            "_model_module": "@jupyter-widgets/controls",
            "_model_module_version": "1.5.0",
            "_model_name": "HBoxModel",
            "_view_count": null,
            "_view_module": "@jupyter-widgets/controls",
            "_view_module_version": "1.5.0",
            "_view_name": "HBoxView",
            "box_style": "",
            "children": [
              "IPY_MODEL_0ec5f38c4cab4615af769a97ee2d46ad",
              "IPY_MODEL_e61f76a0980644e3aec7cb617f566d8a",
              "IPY_MODEL_7571c5d4840a42419868582c48540f36"
            ],
            "layout": "IPY_MODEL_f84b78b0652e49968dcb6a2f7f50e038"
          }
        },
        "0ec5f38c4cab4615af769a97ee2d46ad": {
          "model_module": "@jupyter-widgets/controls",
          "model_name": "HTMLModel",
          "model_module_version": "1.5.0",
          "state": {
            "_dom_classes": [],
            "_model_module": "@jupyter-widgets/controls",
            "_model_module_version": "1.5.0",
            "_model_name": "HTMLModel",
            "_view_count": null,
            "_view_module": "@jupyter-widgets/controls",
            "_view_module_version": "1.5.0",
            "_view_name": "HTMLView",
            "description": "",
            "description_tooltip": null,
            "layout": "IPY_MODEL_8e304ae732b44d2e807ce1c6799d021b",
            "placeholder": "​",
            "style": "IPY_MODEL_f2f7798ca1e04f4383ae50f097ab7c5f",
            "value": "config.json: 100%"
          }
        },
        "e61f76a0980644e3aec7cb617f566d8a": {
          "model_module": "@jupyter-widgets/controls",
          "model_name": "FloatProgressModel",
          "model_module_version": "1.5.0",
          "state": {
            "_dom_classes": [],
            "_model_module": "@jupyter-widgets/controls",
            "_model_module_version": "1.5.0",
            "_model_name": "FloatProgressModel",
            "_view_count": null,
            "_view_module": "@jupyter-widgets/controls",
            "_view_module_version": "1.5.0",
            "_view_name": "ProgressView",
            "bar_style": "success",
            "description": "",
            "description_tooltip": null,
            "layout": "IPY_MODEL_7994bdecb58546e7b2088046c3f46368",
            "max": 570,
            "min": 0,
            "orientation": "horizontal",
            "style": "IPY_MODEL_27e91414f02247088aa025b9b5f47d87",
            "value": 570
          }
        },
        "7571c5d4840a42419868582c48540f36": {
          "model_module": "@jupyter-widgets/controls",
          "model_name": "HTMLModel",
          "model_module_version": "1.5.0",
          "state": {
            "_dom_classes": [],
            "_model_module": "@jupyter-widgets/controls",
            "_model_module_version": "1.5.0",
            "_model_name": "HTMLModel",
            "_view_count": null,
            "_view_module": "@jupyter-widgets/controls",
            "_view_module_version": "1.5.0",
            "_view_name": "HTMLView",
            "description": "",
            "description_tooltip": null,
            "layout": "IPY_MODEL_3d19929240a94b36ae369be2ee3c5d4f",
            "placeholder": "​",
            "style": "IPY_MODEL_12dce8918ad74a3f9d6e312fdd43b159",
            "value": " 570/570 [00:00&lt;00:00, 10.8kB/s]"
          }
        },
        "f84b78b0652e49968dcb6a2f7f50e038": {
          "model_module": "@jupyter-widgets/base",
          "model_name": "LayoutModel",
          "model_module_version": "1.2.0",
          "state": {
            "_model_module": "@jupyter-widgets/base",
            "_model_module_version": "1.2.0",
            "_model_name": "LayoutModel",
            "_view_count": null,
            "_view_module": "@jupyter-widgets/base",
            "_view_module_version": "1.2.0",
            "_view_name": "LayoutView",
            "align_content": null,
            "align_items": null,
            "align_self": null,
            "border": null,
            "bottom": null,
            "display": null,
            "flex": null,
            "flex_flow": null,
            "grid_area": null,
            "grid_auto_columns": null,
            "grid_auto_flow": null,
            "grid_auto_rows": null,
            "grid_column": null,
            "grid_gap": null,
            "grid_row": null,
            "grid_template_areas": null,
            "grid_template_columns": null,
            "grid_template_rows": null,
            "height": null,
            "justify_content": null,
            "justify_items": null,
            "left": null,
            "margin": null,
            "max_height": null,
            "max_width": null,
            "min_height": null,
            "min_width": null,
            "object_fit": null,
            "object_position": null,
            "order": null,
            "overflow": null,
            "overflow_x": null,
            "overflow_y": null,
            "padding": null,
            "right": null,
            "top": null,
            "visibility": null,
            "width": null
          }
        },
        "8e304ae732b44d2e807ce1c6799d021b": {
          "model_module": "@jupyter-widgets/base",
          "model_name": "LayoutModel",
          "model_module_version": "1.2.0",
          "state": {
            "_model_module": "@jupyter-widgets/base",
            "_model_module_version": "1.2.0",
            "_model_name": "LayoutModel",
            "_view_count": null,
            "_view_module": "@jupyter-widgets/base",
            "_view_module_version": "1.2.0",
            "_view_name": "LayoutView",
            "align_content": null,
            "align_items": null,
            "align_self": null,
            "border": null,
            "bottom": null,
            "display": null,
            "flex": null,
            "flex_flow": null,
            "grid_area": null,
            "grid_auto_columns": null,
            "grid_auto_flow": null,
            "grid_auto_rows": null,
            "grid_column": null,
            "grid_gap": null,
            "grid_row": null,
            "grid_template_areas": null,
            "grid_template_columns": null,
            "grid_template_rows": null,
            "height": null,
            "justify_content": null,
            "justify_items": null,
            "left": null,
            "margin": null,
            "max_height": null,
            "max_width": null,
            "min_height": null,
            "min_width": null,
            "object_fit": null,
            "object_position": null,
            "order": null,
            "overflow": null,
            "overflow_x": null,
            "overflow_y": null,
            "padding": null,
            "right": null,
            "top": null,
            "visibility": null,
            "width": null
          }
        },
        "f2f7798ca1e04f4383ae50f097ab7c5f": {
          "model_module": "@jupyter-widgets/controls",
          "model_name": "DescriptionStyleModel",
          "model_module_version": "1.5.0",
          "state": {
            "_model_module": "@jupyter-widgets/controls",
            "_model_module_version": "1.5.0",
            "_model_name": "DescriptionStyleModel",
            "_view_count": null,
            "_view_module": "@jupyter-widgets/base",
            "_view_module_version": "1.2.0",
            "_view_name": "StyleView",
            "description_width": ""
          }
        },
        "7994bdecb58546e7b2088046c3f46368": {
          "model_module": "@jupyter-widgets/base",
          "model_name": "LayoutModel",
          "model_module_version": "1.2.0",
          "state": {
            "_model_module": "@jupyter-widgets/base",
            "_model_module_version": "1.2.0",
            "_model_name": "LayoutModel",
            "_view_count": null,
            "_view_module": "@jupyter-widgets/base",
            "_view_module_version": "1.2.0",
            "_view_name": "LayoutView",
            "align_content": null,
            "align_items": null,
            "align_self": null,
            "border": null,
            "bottom": null,
            "display": null,
            "flex": null,
            "flex_flow": null,
            "grid_area": null,
            "grid_auto_columns": null,
            "grid_auto_flow": null,
            "grid_auto_rows": null,
            "grid_column": null,
            "grid_gap": null,
            "grid_row": null,
            "grid_template_areas": null,
            "grid_template_columns": null,
            "grid_template_rows": null,
            "height": null,
            "justify_content": null,
            "justify_items": null,
            "left": null,
            "margin": null,
            "max_height": null,
            "max_width": null,
            "min_height": null,
            "min_width": null,
            "object_fit": null,
            "object_position": null,
            "order": null,
            "overflow": null,
            "overflow_x": null,
            "overflow_y": null,
            "padding": null,
            "right": null,
            "top": null,
            "visibility": null,
            "width": null
          }
        },
        "27e91414f02247088aa025b9b5f47d87": {
          "model_module": "@jupyter-widgets/controls",
          "model_name": "ProgressStyleModel",
          "model_module_version": "1.5.0",
          "state": {
            "_model_module": "@jupyter-widgets/controls",
            "_model_module_version": "1.5.0",
            "_model_name": "ProgressStyleModel",
            "_view_count": null,
            "_view_module": "@jupyter-widgets/base",
            "_view_module_version": "1.2.0",
            "_view_name": "StyleView",
            "bar_color": null,
            "description_width": ""
          }
        },
        "3d19929240a94b36ae369be2ee3c5d4f": {
          "model_module": "@jupyter-widgets/base",
          "model_name": "LayoutModel",
          "model_module_version": "1.2.0",
          "state": {
            "_model_module": "@jupyter-widgets/base",
            "_model_module_version": "1.2.0",
            "_model_name": "LayoutModel",
            "_view_count": null,
            "_view_module": "@jupyter-widgets/base",
            "_view_module_version": "1.2.0",
            "_view_name": "LayoutView",
            "align_content": null,
            "align_items": null,
            "align_self": null,
            "border": null,
            "bottom": null,
            "display": null,
            "flex": null,
            "flex_flow": null,
            "grid_area": null,
            "grid_auto_columns": null,
            "grid_auto_flow": null,
            "grid_auto_rows": null,
            "grid_column": null,
            "grid_gap": null,
            "grid_row": null,
            "grid_template_areas": null,
            "grid_template_columns": null,
            "grid_template_rows": null,
            "height": null,
            "justify_content": null,
            "justify_items": null,
            "left": null,
            "margin": null,
            "max_height": null,
            "max_width": null,
            "min_height": null,
            "min_width": null,
            "object_fit": null,
            "object_position": null,
            "order": null,
            "overflow": null,
            "overflow_x": null,
            "overflow_y": null,
            "padding": null,
            "right": null,
            "top": null,
            "visibility": null,
            "width": null
          }
        },
        "12dce8918ad74a3f9d6e312fdd43b159": {
          "model_module": "@jupyter-widgets/controls",
          "model_name": "DescriptionStyleModel",
          "model_module_version": "1.5.0",
          "state": {
            "_model_module": "@jupyter-widgets/controls",
            "_model_module_version": "1.5.0",
            "_model_name": "DescriptionStyleModel",
            "_view_count": null,
            "_view_module": "@jupyter-widgets/base",
            "_view_module_version": "1.2.0",
            "_view_name": "StyleView",
            "description_width": ""
          }
        }
      }
    }
  },
  "nbformat": 4,
  "nbformat_minor": 5
}